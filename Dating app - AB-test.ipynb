{
 "cells": [
  {
   "cell_type": "markdown",
   "metadata": {},
   "source": [
    "# Анализ данных дейтингового приложения"
   ]
  },
  {
   "cell_type": "markdown",
   "metadata": {},
   "source": [
    "Представьте, что вы работаете в крупном дейтинговом приложении.\n",
    "Помимо базовых функций, в приложении также имеется премиум-подписка, которая дает доступ к ряду важных дополнительных возможностей. Был проведен A/B тест, в рамках которого для новых пользователей из нескольких стран была изменена стоимость премиум-подписки* при покупке через две новые платежные системы. При этом стоимость пробного периода оставалась прежней.\n",
    "Проверьте:\n",
    "1.\tБыл ли эксперимент успешен в целом.\n",
    "2.\tПроанализируйте, имеет ли нововведение смысл среди каких-либо конкретных групп пользователей.\n",
    "\n",
    "*Деньги за подписку списываются ежемесячно до тех пор, пока пользователь её не отменит.\n"
   ]
  },
  {
   "cell_type": "markdown",
   "metadata": {},
   "source": [
    "### Основной источник информации - это данные о пользователях (users*). Основная метрика, которая интересует бизнес в данном случае - выручка (total_revenue)."
   ]
  },
  {
   "cell_type": "markdown",
   "metadata": {},
   "source": [
    "## Подключение библиотек и чтение данных"
   ]
  },
  {
   "cell_type": "code",
   "execution_count": 99,
   "metadata": {},
   "outputs": [],
   "source": [
    "import requests \n",
    "from urllib.parse import urlencode\n",
    "\n",
    "import pandas as pd\n",
    "import numpy as np\n",
    "import math\n",
    "\n",
    "import seaborn as sns\n",
    "import matplotlib.pyplot as plt\n",
    "%matplotlib inline\n",
    "\n",
    "from statsmodels.stats.multicomp import pairwise_tukeyhsd\n",
    "import scipy.stats\n",
    "# from scipy.stats import chisquare\n",
    "from scipy import stats\n",
    "from scipy.stats import levene"
   ]
  },
  {
   "cell_type": "code",
   "execution_count": 100,
   "metadata": {},
   "outputs": [],
   "source": [
    "# функция чтения данных из csv-файла по имеющейся ссылке на яндекс-диск\n",
    "def import_data(public_key, date_columns=None):\n",
    "    # public_key - ссылка на файл на яндекс-диске\n",
    "    # date_columns - столбцы датасета, содержащие даты. Их нужно распознать как даты\n",
    "    base_url = 'https://cloud-api.yandex.net/v1/disk/public/resources/download?' \n",
    "    # Получаем загрузочную ссылку\n",
    "    final_url = base_url + urlencode(dict(public_key=public_key)) \n",
    "    response = requests.get(final_url) \n",
    "    download_url = response.json()['href'] \n",
    "    # формируем датафрейм\n",
    "    df = pd.read_csv(download_url, sep=';', parse_dates=date_columns)\n",
    "    return df\n",
    "\n",
    "\n",
    "# чтение данных из 6 файлов\n",
    "# информация о пользователях в тестовой группе\n",
    "users_test = import_data('https://disk.yandex.ru/d/4XXIME4osGrMRA')\n",
    "# информация о пользователях в первой контрольной группе\n",
    "users_control1 = import_data('https://disk.yandex.ru/d/yJFydMNNGkEKfg')\n",
    "# информация о пользователях во второй контрольной группе\n",
    "users_control2 = import_data('https://disk.yandex.ru/d/br6KkQupzzTGoQ')\n",
    "\n",
    "# информация о платежах пользователей в тестовой группе\n",
    "transactions_test = import_data('https://disk.yandex.ru/d/gvCWpZ55ODzs2g', ['joined_at', 'paid_at'])\n",
    "# информация о платежах пользователей в первой контрольной группе\n",
    "transactions_control1 = import_data('https://disk.yandex.ru/d/VY5W0keMX5TZBQ', ['joined_at', 'paid_at'])\n",
    "# информация о платежах пользователей во второй контрольной группе\n",
    "transactions_control2 = import_data('https://disk.yandex.ru/d/th5GL0mGOc-qzg', ['joined_at', 'paid_at'])"
   ]
  },
  {
   "cell_type": "markdown",
   "metadata": {},
   "source": [
    "## Исследование данных"
   ]
  },
  {
   "cell_type": "markdown",
   "metadata": {},
   "source": [
    "### информация о пользователях в тестовой и 2х контрольных группах"
   ]
  },
  {
   "cell_type": "markdown",
   "metadata": {},
   "source": [
    "Разместим рядом или в одних осях однотипные таблицы и графики, попытаемся \"на глаз\" определить различия между группами"
   ]
  },
  {
   "cell_type": "code",
   "execution_count": 101,
   "metadata": {},
   "outputs": [
    {
     "data": {
      "text/html": [
       "<div>\n",
       "<style scoped>\n",
       "    .dataframe tbody tr th:only-of-type {\n",
       "        vertical-align: middle;\n",
       "    }\n",
       "\n",
       "    .dataframe tbody tr th {\n",
       "        vertical-align: top;\n",
       "    }\n",
       "\n",
       "    .dataframe thead th {\n",
       "        text-align: right;\n",
       "    }\n",
       "</style>\n",
       "<table border=\"1\" class=\"dataframe\">\n",
       "  <thead>\n",
       "    <tr style=\"text-align: right;\">\n",
       "      <th></th>\n",
       "      <th>uid</th>\n",
       "      <th>age</th>\n",
       "      <th>attraction_coeff</th>\n",
       "      <th>coins</th>\n",
       "      <th>country</th>\n",
       "      <th>visit_days</th>\n",
       "      <th>gender</th>\n",
       "      <th>age_filter_start</th>\n",
       "      <th>age_filter_end</th>\n",
       "      <th>views_count</th>\n",
       "      <th>was_premium</th>\n",
       "      <th>is_premium</th>\n",
       "      <th>total_revenue</th>\n",
       "    </tr>\n",
       "  </thead>\n",
       "  <tbody>\n",
       "    <tr>\n",
       "      <th>0</th>\n",
       "      <td>892309896</td>\n",
       "      <td>27</td>\n",
       "      <td>685</td>\n",
       "      <td>NaN</td>\n",
       "      <td>United States of America</td>\n",
       "      <td>1,2,3,4,5,6,7,8,9,10,11,12,16,17</td>\n",
       "      <td>1</td>\n",
       "      <td>24</td>\n",
       "      <td>30</td>\n",
       "      <td>89</td>\n",
       "      <td>NaN</td>\n",
       "      <td>NaN</td>\n",
       "      <td>0</td>\n",
       "    </tr>\n",
       "    <tr>\n",
       "      <th>1</th>\n",
       "      <td>892044516</td>\n",
       "      <td>27</td>\n",
       "      <td>0</td>\n",
       "      <td>NaN</td>\n",
       "      <td>Germany</td>\n",
       "      <td>NaN</td>\n",
       "      <td>1</td>\n",
       "      <td>24</td>\n",
       "      <td>30</td>\n",
       "      <td>0</td>\n",
       "      <td>NaN</td>\n",
       "      <td>NaN</td>\n",
       "      <td>0</td>\n",
       "    </tr>\n",
       "    <tr>\n",
       "      <th>2</th>\n",
       "      <td>892185708</td>\n",
       "      <td>45</td>\n",
       "      <td>44</td>\n",
       "      <td>NaN</td>\n",
       "      <td>Israel</td>\n",
       "      <td>1,3,4,6,7,8,10,11,12,13,14,15,16,17,18,19,20,2...</td>\n",
       "      <td>1</td>\n",
       "      <td>42</td>\n",
       "      <td>48</td>\n",
       "      <td>68</td>\n",
       "      <td>NaN</td>\n",
       "      <td>NaN</td>\n",
       "      <td>0</td>\n",
       "    </tr>\n",
       "    <tr>\n",
       "      <th>3</th>\n",
       "      <td>892130292</td>\n",
       "      <td>32</td>\n",
       "      <td>0</td>\n",
       "      <td>NaN</td>\n",
       "      <td>United States of America</td>\n",
       "      <td>1,2,3,4,5,6,7,8,9,10,11,12</td>\n",
       "      <td>1</td>\n",
       "      <td>29</td>\n",
       "      <td>35</td>\n",
       "      <td>0</td>\n",
       "      <td>NaN</td>\n",
       "      <td>NaN</td>\n",
       "      <td>0</td>\n",
       "    </tr>\n",
       "    <tr>\n",
       "      <th>4</th>\n",
       "      <td>891406035</td>\n",
       "      <td>27</td>\n",
       "      <td>1000</td>\n",
       "      <td>NaN</td>\n",
       "      <td>France</td>\n",
       "      <td>NaN</td>\n",
       "      <td>1</td>\n",
       "      <td>24</td>\n",
       "      <td>30</td>\n",
       "      <td>1</td>\n",
       "      <td>1.0</td>\n",
       "      <td>NaN</td>\n",
       "      <td>0</td>\n",
       "    </tr>\n",
       "  </tbody>\n",
       "</table>\n",
       "</div>"
      ],
      "text/plain": [
       "         uid  age  attraction_coeff  coins                   country  \\\n",
       "0  892309896   27               685    NaN  United States of America   \n",
       "1  892044516   27                 0    NaN                   Germany   \n",
       "2  892185708   45                44    NaN                    Israel   \n",
       "3  892130292   32                 0    NaN  United States of America   \n",
       "4  891406035   27              1000    NaN                    France   \n",
       "\n",
       "                                          visit_days  gender  \\\n",
       "0                   1,2,3,4,5,6,7,8,9,10,11,12,16,17       1   \n",
       "1                                                NaN       1   \n",
       "2  1,3,4,6,7,8,10,11,12,13,14,15,16,17,18,19,20,2...       1   \n",
       "3                         1,2,3,4,5,6,7,8,9,10,11,12       1   \n",
       "4                                                NaN       1   \n",
       "\n",
       "   age_filter_start  age_filter_end  views_count  was_premium  is_premium  \\\n",
       "0                24              30           89          NaN         NaN   \n",
       "1                24              30            0          NaN         NaN   \n",
       "2                42              48           68          NaN         NaN   \n",
       "3                29              35            0          NaN         NaN   \n",
       "4                24              30            1          1.0         NaN   \n",
       "\n",
       "   total_revenue  \n",
       "0              0  \n",
       "1              0  \n",
       "2              0  \n",
       "3              0  \n",
       "4              0  "
      ]
     },
     "execution_count": 101,
     "metadata": {},
     "output_type": "execute_result"
    }
   ],
   "source": [
    "# структура датасета users_test\n",
    "users_test.head()"
   ]
  },
  {
   "cell_type": "markdown",
   "metadata": {},
   "source": [
    "users_*.csv – информация о пользователях:\n",
    "\n",
    "    uid – идентификатор пользователя\n",
    "    age – возраст\n",
    "    attraction_coeff – коэффициент привлекательности (от 0 до 1000, {лайки}/{просмотры}*1000)\n",
    "    coins – число монеток (внутренняя валюта)\n",
    "    country – страна  \n",
    "    visit_days – в какие дни после регистрации пользователь посещал приложение (напр. в 1, затем в 7)\n",
    "    gender – пол\n",
    "    age_filter_start  – фильтр поиска, мин. значение \n",
    "    age_filter_end  – фильтр поиска, макс. значение \n",
    "    views_count – число полученных оценок \n",
    "    was_premium – был ли когда-либо премиум (либо пробный период премиум-статуса, либо купленный за деньги)\n",
    "    is_premium –  является ли премиум\n",
    "    total_revenue – нормированная выручка"
   ]
  },
  {
   "cell_type": "code",
   "execution_count": 102,
   "metadata": {},
   "outputs": [
    {
     "data": {
      "text/html": [
       "<div>\n",
       "<style scoped>\n",
       "    .dataframe tbody tr th:only-of-type {\n",
       "        vertical-align: middle;\n",
       "    }\n",
       "\n",
       "    .dataframe tbody tr th {\n",
       "        vertical-align: top;\n",
       "    }\n",
       "\n",
       "    .dataframe thead th {\n",
       "        text-align: right;\n",
       "    }\n",
       "</style>\n",
       "<table border=\"1\" class=\"dataframe\">\n",
       "  <thead>\n",
       "    <tr style=\"text-align: right;\">\n",
       "      <th></th>\n",
       "      <th>uid</th>\n",
       "      <th>age</th>\n",
       "      <th>attraction_coeff</th>\n",
       "      <th>coins</th>\n",
       "      <th>gender</th>\n",
       "      <th>age_filter_start</th>\n",
       "      <th>age_filter_end</th>\n",
       "      <th>views_count</th>\n",
       "      <th>was_premium</th>\n",
       "      <th>is_premium</th>\n",
       "      <th>total_revenue</th>\n",
       "    </tr>\n",
       "  </thead>\n",
       "  <tbody>\n",
       "    <tr>\n",
       "      <th>count</th>\n",
       "      <td>4.308000e+03</td>\n",
       "      <td>4308.000000</td>\n",
       "      <td>4308.000000</td>\n",
       "      <td>49.000000</td>\n",
       "      <td>4308.000000</td>\n",
       "      <td>4308.000000</td>\n",
       "      <td>4308.000000</td>\n",
       "      <td>4308.000000</td>\n",
       "      <td>408.0</td>\n",
       "      <td>157.0</td>\n",
       "      <td>4308.000000</td>\n",
       "    </tr>\n",
       "    <tr>\n",
       "      <th>mean</th>\n",
       "      <td>8.917437e+08</td>\n",
       "      <td>31.889276</td>\n",
       "      <td>316.411328</td>\n",
       "      <td>229.836735</td>\n",
       "      <td>0.953110</td>\n",
       "      <td>26.701486</td>\n",
       "      <td>38.248839</td>\n",
       "      <td>50.391133</td>\n",
       "      <td>1.0</td>\n",
       "      <td>1.0</td>\n",
       "      <td>534.080316</td>\n",
       "    </tr>\n",
       "    <tr>\n",
       "      <th>std</th>\n",
       "      <td>4.547670e+05</td>\n",
       "      <td>10.245287</td>\n",
       "      <td>323.373725</td>\n",
       "      <td>1205.819471</td>\n",
       "      <td>0.211427</td>\n",
       "      <td>9.390851</td>\n",
       "      <td>15.344562</td>\n",
       "      <td>318.676437</td>\n",
       "      <td>0.0</td>\n",
       "      <td>0.0</td>\n",
       "      <td>4371.682632</td>\n",
       "    </tr>\n",
       "    <tr>\n",
       "      <th>min</th>\n",
       "      <td>8.910511e+08</td>\n",
       "      <td>16.000000</td>\n",
       "      <td>0.000000</td>\n",
       "      <td>1.000000</td>\n",
       "      <td>0.000000</td>\n",
       "      <td>13.000000</td>\n",
       "      <td>19.000000</td>\n",
       "      <td>0.000000</td>\n",
       "      <td>1.0</td>\n",
       "      <td>1.0</td>\n",
       "      <td>0.000000</td>\n",
       "    </tr>\n",
       "    <tr>\n",
       "      <th>25%</th>\n",
       "      <td>8.913621e+08</td>\n",
       "      <td>25.000000</td>\n",
       "      <td>0.000000</td>\n",
       "      <td>4.000000</td>\n",
       "      <td>1.000000</td>\n",
       "      <td>19.000000</td>\n",
       "      <td>28.000000</td>\n",
       "      <td>1.000000</td>\n",
       "      <td>1.0</td>\n",
       "      <td>1.0</td>\n",
       "      <td>0.000000</td>\n",
       "    </tr>\n",
       "    <tr>\n",
       "      <th>50%</th>\n",
       "      <td>8.917290e+08</td>\n",
       "      <td>30.000000</td>\n",
       "      <td>250.000000</td>\n",
       "      <td>9.000000</td>\n",
       "      <td>1.000000</td>\n",
       "      <td>24.000000</td>\n",
       "      <td>35.000000</td>\n",
       "      <td>6.000000</td>\n",
       "      <td>1.0</td>\n",
       "      <td>1.0</td>\n",
       "      <td>0.000000</td>\n",
       "    </tr>\n",
       "    <tr>\n",
       "      <th>75%</th>\n",
       "      <td>8.920952e+08</td>\n",
       "      <td>38.000000</td>\n",
       "      <td>520.250000</td>\n",
       "      <td>72.000000</td>\n",
       "      <td>1.000000</td>\n",
       "      <td>32.000000</td>\n",
       "      <td>44.000000</td>\n",
       "      <td>22.000000</td>\n",
       "      <td>1.0</td>\n",
       "      <td>1.0</td>\n",
       "      <td>0.000000</td>\n",
       "    </tr>\n",
       "    <tr>\n",
       "      <th>max</th>\n",
       "      <td>9.051586e+08</td>\n",
       "      <td>99.000000</td>\n",
       "      <td>1000.000000</td>\n",
       "      <td>8466.000000</td>\n",
       "      <td>1.000000</td>\n",
       "      <td>96.000000</td>\n",
       "      <td>102.000000</td>\n",
       "      <td>12831.000000</td>\n",
       "      <td>1.0</td>\n",
       "      <td>1.0</td>\n",
       "      <td>129870.000000</td>\n",
       "    </tr>\n",
       "  </tbody>\n",
       "</table>\n",
       "</div>"
      ],
      "text/plain": [
       "                uid          age  attraction_coeff        coins       gender  \\\n",
       "count  4.308000e+03  4308.000000       4308.000000    49.000000  4308.000000   \n",
       "mean   8.917437e+08    31.889276        316.411328   229.836735     0.953110   \n",
       "std    4.547670e+05    10.245287        323.373725  1205.819471     0.211427   \n",
       "min    8.910511e+08    16.000000          0.000000     1.000000     0.000000   \n",
       "25%    8.913621e+08    25.000000          0.000000     4.000000     1.000000   \n",
       "50%    8.917290e+08    30.000000        250.000000     9.000000     1.000000   \n",
       "75%    8.920952e+08    38.000000        520.250000    72.000000     1.000000   \n",
       "max    9.051586e+08    99.000000       1000.000000  8466.000000     1.000000   \n",
       "\n",
       "       age_filter_start  age_filter_end   views_count  was_premium  \\\n",
       "count       4308.000000     4308.000000   4308.000000        408.0   \n",
       "mean          26.701486       38.248839     50.391133          1.0   \n",
       "std            9.390851       15.344562    318.676437          0.0   \n",
       "min           13.000000       19.000000      0.000000          1.0   \n",
       "25%           19.000000       28.000000      1.000000          1.0   \n",
       "50%           24.000000       35.000000      6.000000          1.0   \n",
       "75%           32.000000       44.000000     22.000000          1.0   \n",
       "max           96.000000      102.000000  12831.000000          1.0   \n",
       "\n",
       "       is_premium  total_revenue  \n",
       "count       157.0    4308.000000  \n",
       "mean          1.0     534.080316  \n",
       "std           0.0    4371.682632  \n",
       "min           1.0       0.000000  \n",
       "25%           1.0       0.000000  \n",
       "50%           1.0       0.000000  \n",
       "75%           1.0       0.000000  \n",
       "max           1.0  129870.000000  "
      ]
     },
     "execution_count": 102,
     "metadata": {},
     "output_type": "execute_result"
    }
   ],
   "source": [
    "users_test.describe()"
   ]
  },
  {
   "cell_type": "code",
   "execution_count": 103,
   "metadata": {},
   "outputs": [
    {
     "data": {
      "text/html": [
       "<div>\n",
       "<style scoped>\n",
       "    .dataframe tbody tr th:only-of-type {\n",
       "        vertical-align: middle;\n",
       "    }\n",
       "\n",
       "    .dataframe tbody tr th {\n",
       "        vertical-align: top;\n",
       "    }\n",
       "\n",
       "    .dataframe thead th {\n",
       "        text-align: right;\n",
       "    }\n",
       "</style>\n",
       "<table border=\"1\" class=\"dataframe\">\n",
       "  <thead>\n",
       "    <tr style=\"text-align: right;\">\n",
       "      <th></th>\n",
       "      <th>uid</th>\n",
       "      <th>age</th>\n",
       "      <th>attraction_coeff</th>\n",
       "      <th>coins</th>\n",
       "      <th>gender</th>\n",
       "      <th>age_filter_start</th>\n",
       "      <th>age_filter_end</th>\n",
       "      <th>views_count</th>\n",
       "      <th>was_premium</th>\n",
       "      <th>is_premium</th>\n",
       "      <th>total_revenue</th>\n",
       "    </tr>\n",
       "  </thead>\n",
       "  <tbody>\n",
       "    <tr>\n",
       "      <th>count</th>\n",
       "      <td>4.340000e+03</td>\n",
       "      <td>4340.000000</td>\n",
       "      <td>4340.000000</td>\n",
       "      <td>60.0000</td>\n",
       "      <td>4340.000000</td>\n",
       "      <td>4340.000000</td>\n",
       "      <td>4340.000000</td>\n",
       "      <td>4340.000000</td>\n",
       "      <td>436.0</td>\n",
       "      <td>192.0</td>\n",
       "      <td>4340.000000</td>\n",
       "    </tr>\n",
       "    <tr>\n",
       "      <th>mean</th>\n",
       "      <td>8.917578e+08</td>\n",
       "      <td>32.095392</td>\n",
       "      <td>312.048848</td>\n",
       "      <td>1745.9000</td>\n",
       "      <td>0.958065</td>\n",
       "      <td>26.793779</td>\n",
       "      <td>38.553226</td>\n",
       "      <td>44.467512</td>\n",
       "      <td>1.0</td>\n",
       "      <td>1.0</td>\n",
       "      <td>594.761982</td>\n",
       "    </tr>\n",
       "    <tr>\n",
       "      <th>std</th>\n",
       "      <td>1.125683e+06</td>\n",
       "      <td>10.257466</td>\n",
       "      <td>320.972130</td>\n",
       "      <td>12902.3577</td>\n",
       "      <td>0.200465</td>\n",
       "      <td>9.405103</td>\n",
       "      <td>15.226951</td>\n",
       "      <td>204.800272</td>\n",
       "      <td>0.0</td>\n",
       "      <td>0.0</td>\n",
       "      <td>7987.922925</td>\n",
       "    </tr>\n",
       "    <tr>\n",
       "      <th>min</th>\n",
       "      <td>8.910510e+08</td>\n",
       "      <td>16.000000</td>\n",
       "      <td>0.000000</td>\n",
       "      <td>1.0000</td>\n",
       "      <td>0.000000</td>\n",
       "      <td>13.000000</td>\n",
       "      <td>19.000000</td>\n",
       "      <td>0.000000</td>\n",
       "      <td>1.0</td>\n",
       "      <td>1.0</td>\n",
       "      <td>0.000000</td>\n",
       "    </tr>\n",
       "    <tr>\n",
       "      <th>25%</th>\n",
       "      <td>8.913626e+08</td>\n",
       "      <td>24.000000</td>\n",
       "      <td>0.000000</td>\n",
       "      <td>8.0000</td>\n",
       "      <td>1.000000</td>\n",
       "      <td>19.000000</td>\n",
       "      <td>28.000000</td>\n",
       "      <td>1.000000</td>\n",
       "      <td>1.0</td>\n",
       "      <td>1.0</td>\n",
       "      <td>0.000000</td>\n",
       "    </tr>\n",
       "    <tr>\n",
       "      <th>50%</th>\n",
       "      <td>8.917272e+08</td>\n",
       "      <td>30.000000</td>\n",
       "      <td>238.500000</td>\n",
       "      <td>11.5000</td>\n",
       "      <td>1.000000</td>\n",
       "      <td>25.000000</td>\n",
       "      <td>35.000000</td>\n",
       "      <td>6.000000</td>\n",
       "      <td>1.0</td>\n",
       "      <td>1.0</td>\n",
       "      <td>0.000000</td>\n",
       "    </tr>\n",
       "    <tr>\n",
       "      <th>75%</th>\n",
       "      <td>8.920898e+08</td>\n",
       "      <td>38.000000</td>\n",
       "      <td>518.000000</td>\n",
       "      <td>28.0000</td>\n",
       "      <td>1.000000</td>\n",
       "      <td>32.000000</td>\n",
       "      <td>45.000000</td>\n",
       "      <td>21.000000</td>\n",
       "      <td>1.0</td>\n",
       "      <td>1.0</td>\n",
       "      <td>0.000000</td>\n",
       "    </tr>\n",
       "    <tr>\n",
       "      <th>max</th>\n",
       "      <td>9.609370e+08</td>\n",
       "      <td>99.000000</td>\n",
       "      <td>1000.000000</td>\n",
       "      <td>99958.0000</td>\n",
       "      <td>1.000000</td>\n",
       "      <td>96.000000</td>\n",
       "      <td>102.000000</td>\n",
       "      <td>4953.000000</td>\n",
       "      <td>1.0</td>\n",
       "      <td>1.0</td>\n",
       "      <td>486330.000000</td>\n",
       "    </tr>\n",
       "  </tbody>\n",
       "</table>\n",
       "</div>"
      ],
      "text/plain": [
       "                uid          age  attraction_coeff       coins       gender  \\\n",
       "count  4.340000e+03  4340.000000       4340.000000     60.0000  4340.000000   \n",
       "mean   8.917578e+08    32.095392        312.048848   1745.9000     0.958065   \n",
       "std    1.125683e+06    10.257466        320.972130  12902.3577     0.200465   \n",
       "min    8.910510e+08    16.000000          0.000000      1.0000     0.000000   \n",
       "25%    8.913626e+08    24.000000          0.000000      8.0000     1.000000   \n",
       "50%    8.917272e+08    30.000000        238.500000     11.5000     1.000000   \n",
       "75%    8.920898e+08    38.000000        518.000000     28.0000     1.000000   \n",
       "max    9.609370e+08    99.000000       1000.000000  99958.0000     1.000000   \n",
       "\n",
       "       age_filter_start  age_filter_end  views_count  was_premium  is_premium  \\\n",
       "count       4340.000000     4340.000000  4340.000000        436.0       192.0   \n",
       "mean          26.793779       38.553226    44.467512          1.0         1.0   \n",
       "std            9.405103       15.226951   204.800272          0.0         0.0   \n",
       "min           13.000000       19.000000     0.000000          1.0         1.0   \n",
       "25%           19.000000       28.000000     1.000000          1.0         1.0   \n",
       "50%           25.000000       35.000000     6.000000          1.0         1.0   \n",
       "75%           32.000000       45.000000    21.000000          1.0         1.0   \n",
       "max           96.000000      102.000000  4953.000000          1.0         1.0   \n",
       "\n",
       "       total_revenue  \n",
       "count    4340.000000  \n",
       "mean      594.761982  \n",
       "std      7987.922925  \n",
       "min         0.000000  \n",
       "25%         0.000000  \n",
       "50%         0.000000  \n",
       "75%         0.000000  \n",
       "max    486330.000000  "
      ]
     },
     "execution_count": 103,
     "metadata": {},
     "output_type": "execute_result"
    }
   ],
   "source": [
    "users_control1.describe()"
   ]
  },
  {
   "cell_type": "code",
   "execution_count": 104,
   "metadata": {
    "scrolled": true
   },
   "outputs": [
    {
     "data": {
      "text/html": [
       "<div>\n",
       "<style scoped>\n",
       "    .dataframe tbody tr th:only-of-type {\n",
       "        vertical-align: middle;\n",
       "    }\n",
       "\n",
       "    .dataframe tbody tr th {\n",
       "        vertical-align: top;\n",
       "    }\n",
       "\n",
       "    .dataframe thead th {\n",
       "        text-align: right;\n",
       "    }\n",
       "</style>\n",
       "<table border=\"1\" class=\"dataframe\">\n",
       "  <thead>\n",
       "    <tr style=\"text-align: right;\">\n",
       "      <th></th>\n",
       "      <th>uid</th>\n",
       "      <th>age</th>\n",
       "      <th>attraction_coeff</th>\n",
       "      <th>coins</th>\n",
       "      <th>gender</th>\n",
       "      <th>age_filter_start</th>\n",
       "      <th>age_filter_end</th>\n",
       "      <th>views_count</th>\n",
       "      <th>was_premium</th>\n",
       "      <th>is_premium</th>\n",
       "      <th>total_revenue</th>\n",
       "    </tr>\n",
       "  </thead>\n",
       "  <tbody>\n",
       "    <tr>\n",
       "      <th>count</th>\n",
       "      <td>4.264000e+03</td>\n",
       "      <td>4264.000000</td>\n",
       "      <td>4264.000000</td>\n",
       "      <td>61.000000</td>\n",
       "      <td>4264.000000</td>\n",
       "      <td>4264.000000</td>\n",
       "      <td>4264.000000</td>\n",
       "      <td>4264.000000</td>\n",
       "      <td>411.0</td>\n",
       "      <td>191.0</td>\n",
       "      <td>4264.000000</td>\n",
       "    </tr>\n",
       "    <tr>\n",
       "      <th>mean</th>\n",
       "      <td>8.917694e+08</td>\n",
       "      <td>32.046201</td>\n",
       "      <td>317.957317</td>\n",
       "      <td>18.147541</td>\n",
       "      <td>0.954268</td>\n",
       "      <td>26.954268</td>\n",
       "      <td>38.906895</td>\n",
       "      <td>45.064493</td>\n",
       "      <td>1.0</td>\n",
       "      <td>1.0</td>\n",
       "      <td>450.384146</td>\n",
       "    </tr>\n",
       "    <tr>\n",
       "      <th>std</th>\n",
       "      <td>2.520759e+06</td>\n",
       "      <td>10.170721</td>\n",
       "      <td>326.191737</td>\n",
       "      <td>35.439543</td>\n",
       "      <td>0.208927</td>\n",
       "      <td>9.546657</td>\n",
       "      <td>15.955574</td>\n",
       "      <td>318.188992</td>\n",
       "      <td>0.0</td>\n",
       "      <td>0.0</td>\n",
       "      <td>2859.242228</td>\n",
       "    </tr>\n",
       "    <tr>\n",
       "      <th>min</th>\n",
       "      <td>8.910509e+08</td>\n",
       "      <td>16.000000</td>\n",
       "      <td>0.000000</td>\n",
       "      <td>1.000000</td>\n",
       "      <td>0.000000</td>\n",
       "      <td>13.000000</td>\n",
       "      <td>19.000000</td>\n",
       "      <td>0.000000</td>\n",
       "      <td>1.0</td>\n",
       "      <td>1.0</td>\n",
       "      <td>0.000000</td>\n",
       "    </tr>\n",
       "    <tr>\n",
       "      <th>25%</th>\n",
       "      <td>8.913453e+08</td>\n",
       "      <td>25.000000</td>\n",
       "      <td>0.000000</td>\n",
       "      <td>4.000000</td>\n",
       "      <td>1.000000</td>\n",
       "      <td>19.000000</td>\n",
       "      <td>28.000000</td>\n",
       "      <td>1.000000</td>\n",
       "      <td>1.0</td>\n",
       "      <td>1.0</td>\n",
       "      <td>0.000000</td>\n",
       "    </tr>\n",
       "    <tr>\n",
       "      <th>50%</th>\n",
       "      <td>8.917205e+08</td>\n",
       "      <td>30.000000</td>\n",
       "      <td>250.000000</td>\n",
       "      <td>10.000000</td>\n",
       "      <td>1.000000</td>\n",
       "      <td>25.000000</td>\n",
       "      <td>35.000000</td>\n",
       "      <td>6.000000</td>\n",
       "      <td>1.0</td>\n",
       "      <td>1.0</td>\n",
       "      <td>0.000000</td>\n",
       "    </tr>\n",
       "    <tr>\n",
       "      <th>75%</th>\n",
       "      <td>8.920735e+08</td>\n",
       "      <td>38.000000</td>\n",
       "      <td>548.500000</td>\n",
       "      <td>20.000000</td>\n",
       "      <td>1.000000</td>\n",
       "      <td>32.000000</td>\n",
       "      <td>45.000000</td>\n",
       "      <td>20.000000</td>\n",
       "      <td>1.0</td>\n",
       "      <td>1.0</td>\n",
       "      <td>0.000000</td>\n",
       "    </tr>\n",
       "    <tr>\n",
       "      <th>max</th>\n",
       "      <td>1.053059e+09</td>\n",
       "      <td>99.000000</td>\n",
       "      <td>1000.000000</td>\n",
       "      <td>271.000000</td>\n",
       "      <td>1.000000</td>\n",
       "      <td>94.000000</td>\n",
       "      <td>99.000000</td>\n",
       "      <td>16157.000000</td>\n",
       "      <td>1.0</td>\n",
       "      <td>1.0</td>\n",
       "      <td>81796.000000</td>\n",
       "    </tr>\n",
       "  </tbody>\n",
       "</table>\n",
       "</div>"
      ],
      "text/plain": [
       "                uid          age  attraction_coeff       coins       gender  \\\n",
       "count  4.264000e+03  4264.000000       4264.000000   61.000000  4264.000000   \n",
       "mean   8.917694e+08    32.046201        317.957317   18.147541     0.954268   \n",
       "std    2.520759e+06    10.170721        326.191737   35.439543     0.208927   \n",
       "min    8.910509e+08    16.000000          0.000000    1.000000     0.000000   \n",
       "25%    8.913453e+08    25.000000          0.000000    4.000000     1.000000   \n",
       "50%    8.917205e+08    30.000000        250.000000   10.000000     1.000000   \n",
       "75%    8.920735e+08    38.000000        548.500000   20.000000     1.000000   \n",
       "max    1.053059e+09    99.000000       1000.000000  271.000000     1.000000   \n",
       "\n",
       "       age_filter_start  age_filter_end   views_count  was_premium  \\\n",
       "count       4264.000000     4264.000000   4264.000000        411.0   \n",
       "mean          26.954268       38.906895     45.064493          1.0   \n",
       "std            9.546657       15.955574    318.188992          0.0   \n",
       "min           13.000000       19.000000      0.000000          1.0   \n",
       "25%           19.000000       28.000000      1.000000          1.0   \n",
       "50%           25.000000       35.000000      6.000000          1.0   \n",
       "75%           32.000000       45.000000     20.000000          1.0   \n",
       "max           94.000000       99.000000  16157.000000          1.0   \n",
       "\n",
       "       is_premium  total_revenue  \n",
       "count       191.0    4264.000000  \n",
       "mean          1.0     450.384146  \n",
       "std           0.0    2859.242228  \n",
       "min           1.0       0.000000  \n",
       "25%           1.0       0.000000  \n",
       "50%           1.0       0.000000  \n",
       "75%           1.0       0.000000  \n",
       "max           1.0   81796.000000  "
      ]
     },
     "execution_count": 104,
     "metadata": {},
     "output_type": "execute_result"
    }
   ],
   "source": [
    "users_control2.describe()"
   ]
  },
  {
   "cell_type": "markdown",
   "metadata": {},
   "source": [
    "Распределение переменной gender (пол пользователя) примерно одинаково в тестовой и контрольных группах, у переменной total_revenue большой размах, максимальный возраст пользователя представляется сомнительным."
   ]
  },
  {
   "cell_type": "code",
   "execution_count": 105,
   "metadata": {},
   "outputs": [
    {
     "data": {
      "text/plain": [
       "uid                    0\n",
       "age                    0\n",
       "attraction_coeff       0\n",
       "coins               4259\n",
       "country                0\n",
       "visit_days          1330\n",
       "gender                 0\n",
       "age_filter_start       0\n",
       "age_filter_end         0\n",
       "views_count            0\n",
       "was_premium         3900\n",
       "is_premium          4151\n",
       "total_revenue          0\n",
       "dtype: int64"
      ]
     },
     "execution_count": 105,
     "metadata": {},
     "output_type": "execute_result"
    }
   ],
   "source": [
    "users_test.isna().sum()"
   ]
  },
  {
   "cell_type": "code",
   "execution_count": 106,
   "metadata": {},
   "outputs": [
    {
     "data": {
      "text/plain": [
       "uid                    0\n",
       "age                    0\n",
       "attraction_coeff       0\n",
       "coins               4280\n",
       "country                0\n",
       "visit_days          1324\n",
       "gender                 0\n",
       "age_filter_start       0\n",
       "age_filter_end         0\n",
       "views_count            0\n",
       "was_premium         3904\n",
       "is_premium          4148\n",
       "total_revenue          0\n",
       "dtype: int64"
      ]
     },
     "execution_count": 106,
     "metadata": {},
     "output_type": "execute_result"
    }
   ],
   "source": [
    "users_control1.isna().sum()"
   ]
  },
  {
   "cell_type": "code",
   "execution_count": 107,
   "metadata": {},
   "outputs": [
    {
     "data": {
      "text/plain": [
       "uid                    0\n",
       "age                    0\n",
       "attraction_coeff       0\n",
       "coins               4203\n",
       "country                0\n",
       "visit_days          1364\n",
       "gender                 0\n",
       "age_filter_start       0\n",
       "age_filter_end         0\n",
       "views_count            0\n",
       "was_premium         3853\n",
       "is_premium          4073\n",
       "total_revenue          0\n",
       "dtype: int64"
      ]
     },
     "execution_count": 107,
     "metadata": {},
     "output_type": "execute_result"
    }
   ],
   "source": [
    "users_control2.isna().sum()"
   ]
  },
  {
   "cell_type": "markdown",
   "metadata": {},
   "source": [
    "Для "
   ]
  },
  {
   "cell_type": "code",
   "execution_count": 108,
   "metadata": {},
   "outputs": [
    {
     "data": {
      "text/html": [
       "<div>\n",
       "<style scoped>\n",
       "    .dataframe tbody tr th:only-of-type {\n",
       "        vertical-align: middle;\n",
       "    }\n",
       "\n",
       "    .dataframe tbody tr th {\n",
       "        vertical-align: top;\n",
       "    }\n",
       "\n",
       "    .dataframe thead th {\n",
       "        text-align: right;\n",
       "    }\n",
       "</style>\n",
       "<table border=\"1\" class=\"dataframe\">\n",
       "  <thead>\n",
       "    <tr style=\"text-align: right;\">\n",
       "      <th></th>\n",
       "      <th>uid</th>\n",
       "      <th>revenue</th>\n",
       "      <th>payment_id</th>\n",
       "    </tr>\n",
       "  </thead>\n",
       "  <tbody>\n",
       "    <tr>\n",
       "      <th>count</th>\n",
       "      <td>2.730000e+02</td>\n",
       "      <td>273.000000</td>\n",
       "      <td>273.000000</td>\n",
       "    </tr>\n",
       "    <tr>\n",
       "      <th>mean</th>\n",
       "      <td>8.918375e+08</td>\n",
       "      <td>8589.380952</td>\n",
       "      <td>98.227106</td>\n",
       "    </tr>\n",
       "    <tr>\n",
       "      <th>std</th>\n",
       "      <td>3.777452e+05</td>\n",
       "      <td>11127.479971</td>\n",
       "      <td>57.762760</td>\n",
       "    </tr>\n",
       "    <tr>\n",
       "      <th>min</th>\n",
       "      <td>8.910712e+08</td>\n",
       "      <td>533.000000</td>\n",
       "      <td>0.000000</td>\n",
       "    </tr>\n",
       "    <tr>\n",
       "      <th>25%</th>\n",
       "      <td>8.915082e+08</td>\n",
       "      <td>2743.000000</td>\n",
       "      <td>19.000000</td>\n",
       "    </tr>\n",
       "    <tr>\n",
       "      <th>50%</th>\n",
       "      <td>8.919143e+08</td>\n",
       "      <td>6305.000000</td>\n",
       "      <td>146.000000</td>\n",
       "    </tr>\n",
       "    <tr>\n",
       "      <th>75%</th>\n",
       "      <td>8.921442e+08</td>\n",
       "      <td>12597.000000</td>\n",
       "      <td>147.000000</td>\n",
       "    </tr>\n",
       "    <tr>\n",
       "      <th>max</th>\n",
       "      <td>8.924386e+08</td>\n",
       "      <td>113477.000000</td>\n",
       "      <td>147.000000</td>\n",
       "    </tr>\n",
       "  </tbody>\n",
       "</table>\n",
       "</div>"
      ],
      "text/plain": [
       "                uid        revenue  payment_id\n",
       "count  2.730000e+02     273.000000  273.000000\n",
       "mean   8.918375e+08    8589.380952   98.227106\n",
       "std    3.777452e+05   11127.479971   57.762760\n",
       "min    8.910712e+08     533.000000    0.000000\n",
       "25%    8.915082e+08    2743.000000   19.000000\n",
       "50%    8.919143e+08    6305.000000  146.000000\n",
       "75%    8.921442e+08   12597.000000  147.000000\n",
       "max    8.924386e+08  113477.000000  147.000000"
      ]
     },
     "execution_count": 108,
     "metadata": {},
     "output_type": "execute_result"
    }
   ],
   "source": [
    "transactions_test.describe()"
   ]
  },
  {
   "cell_type": "code",
   "execution_count": 109,
   "metadata": {},
   "outputs": [
    {
     "data": {
      "text/html": [
       "<div>\n",
       "<style scoped>\n",
       "    .dataframe tbody tr th:only-of-type {\n",
       "        vertical-align: middle;\n",
       "    }\n",
       "\n",
       "    .dataframe tbody tr th {\n",
       "        vertical-align: top;\n",
       "    }\n",
       "\n",
       "    .dataframe thead th {\n",
       "        text-align: right;\n",
       "    }\n",
       "</style>\n",
       "<table border=\"1\" class=\"dataframe\">\n",
       "  <thead>\n",
       "    <tr style=\"text-align: right;\">\n",
       "      <th></th>\n",
       "      <th>uid</th>\n",
       "      <th>revenue</th>\n",
       "      <th>payment_id</th>\n",
       "    </tr>\n",
       "  </thead>\n",
       "  <tbody>\n",
       "    <tr>\n",
       "      <th>count</th>\n",
       "      <td>3.770000e+02</td>\n",
       "      <td>377.000000</td>\n",
       "      <td>377.000000</td>\n",
       "    </tr>\n",
       "    <tr>\n",
       "      <th>mean</th>\n",
       "      <td>8.923612e+08</td>\n",
       "      <td>6929.206897</td>\n",
       "      <td>91.145889</td>\n",
       "    </tr>\n",
       "    <tr>\n",
       "      <th>std</th>\n",
       "      <td>6.162900e+06</td>\n",
       "      <td>8027.889630</td>\n",
       "      <td>58.599773</td>\n",
       "    </tr>\n",
       "    <tr>\n",
       "      <th>min</th>\n",
       "      <td>8.910923e+08</td>\n",
       "      <td>26.000000</td>\n",
       "      <td>0.000000</td>\n",
       "    </tr>\n",
       "    <tr>\n",
       "      <th>25%</th>\n",
       "      <td>8.913833e+08</td>\n",
       "      <td>2730.000000</td>\n",
       "      <td>19.000000</td>\n",
       "    </tr>\n",
       "    <tr>\n",
       "      <th>50%</th>\n",
       "      <td>8.918225e+08</td>\n",
       "      <td>6266.000000</td>\n",
       "      <td>127.000000</td>\n",
       "    </tr>\n",
       "    <tr>\n",
       "      <th>75%</th>\n",
       "      <td>8.921850e+08</td>\n",
       "      <td>6448.000000</td>\n",
       "      <td>147.000000</td>\n",
       "    </tr>\n",
       "    <tr>\n",
       "      <th>max</th>\n",
       "      <td>9.609370e+08</td>\n",
       "      <td>63037.000000</td>\n",
       "      <td>147.000000</td>\n",
       "    </tr>\n",
       "  </tbody>\n",
       "</table>\n",
       "</div>"
      ],
      "text/plain": [
       "                uid       revenue  payment_id\n",
       "count  3.770000e+02    377.000000  377.000000\n",
       "mean   8.923612e+08   6929.206897   91.145889\n",
       "std    6.162900e+06   8027.889630   58.599773\n",
       "min    8.910923e+08     26.000000    0.000000\n",
       "25%    8.913833e+08   2730.000000   19.000000\n",
       "50%    8.918225e+08   6266.000000  127.000000\n",
       "75%    8.921850e+08   6448.000000  147.000000\n",
       "max    9.609370e+08  63037.000000  147.000000"
      ]
     },
     "execution_count": 109,
     "metadata": {},
     "output_type": "execute_result"
    }
   ],
   "source": [
    "transactions_control1.describe()"
   ]
  },
  {
   "cell_type": "code",
   "execution_count": 110,
   "metadata": {},
   "outputs": [
    {
     "data": {
      "text/html": [
       "<div>\n",
       "<style scoped>\n",
       "    .dataframe tbody tr th:only-of-type {\n",
       "        vertical-align: middle;\n",
       "    }\n",
       "\n",
       "    .dataframe tbody tr th {\n",
       "        vertical-align: top;\n",
       "    }\n",
       "\n",
       "    .dataframe thead th {\n",
       "        text-align: right;\n",
       "    }\n",
       "</style>\n",
       "<table border=\"1\" class=\"dataframe\">\n",
       "  <thead>\n",
       "    <tr style=\"text-align: right;\">\n",
       "      <th></th>\n",
       "      <th>uid</th>\n",
       "      <th>revenue</th>\n",
       "      <th>payment_id</th>\n",
       "    </tr>\n",
       "  </thead>\n",
       "  <tbody>\n",
       "    <tr>\n",
       "      <th>count</th>\n",
       "      <td>3.280000e+02</td>\n",
       "      <td>328.000000</td>\n",
       "      <td>328.000000</td>\n",
       "    </tr>\n",
       "    <tr>\n",
       "      <th>mean</th>\n",
       "      <td>8.918121e+08</td>\n",
       "      <td>5854.993902</td>\n",
       "      <td>95.527439</td>\n",
       "    </tr>\n",
       "    <tr>\n",
       "      <th>std</th>\n",
       "      <td>3.802149e+05</td>\n",
       "      <td>6582.242539</td>\n",
       "      <td>57.247832</td>\n",
       "    </tr>\n",
       "    <tr>\n",
       "      <th>min</th>\n",
       "      <td>8.910681e+08</td>\n",
       "      <td>481.000000</td>\n",
       "      <td>0.000000</td>\n",
       "    </tr>\n",
       "    <tr>\n",
       "      <th>25%</th>\n",
       "      <td>8.915738e+08</td>\n",
       "      <td>2323.750000</td>\n",
       "      <td>19.000000</td>\n",
       "    </tr>\n",
       "    <tr>\n",
       "      <th>50%</th>\n",
       "      <td>8.918626e+08</td>\n",
       "      <td>4706.000000</td>\n",
       "      <td>146.000000</td>\n",
       "    </tr>\n",
       "    <tr>\n",
       "      <th>75%</th>\n",
       "      <td>8.921281e+08</td>\n",
       "      <td>6314.750000</td>\n",
       "      <td>147.000000</td>\n",
       "    </tr>\n",
       "    <tr>\n",
       "      <th>max</th>\n",
       "      <td>8.924388e+08</td>\n",
       "      <td>81796.000000</td>\n",
       "      <td>147.000000</td>\n",
       "    </tr>\n",
       "  </tbody>\n",
       "</table>\n",
       "</div>"
      ],
      "text/plain": [
       "                uid       revenue  payment_id\n",
       "count  3.280000e+02    328.000000  328.000000\n",
       "mean   8.918121e+08   5854.993902   95.527439\n",
       "std    3.802149e+05   6582.242539   57.247832\n",
       "min    8.910681e+08    481.000000    0.000000\n",
       "25%    8.915738e+08   2323.750000   19.000000\n",
       "50%    8.918626e+08   4706.000000  146.000000\n",
       "75%    8.921281e+08   6314.750000  147.000000\n",
       "max    8.924388e+08  81796.000000  147.000000"
      ]
     },
     "execution_count": 110,
     "metadata": {},
     "output_type": "execute_result"
    }
   ],
   "source": [
    "transactions_control2.describe()"
   ]
  },
  {
   "cell_type": "code",
   "execution_count": 111,
   "metadata": {},
   "outputs": [
    {
     "data": {
      "text/plain": [
       "uid             0\n",
       "country         0\n",
       "joined_at       0\n",
       "paid_at         0\n",
       "revenue         0\n",
       "payment_id      0\n",
       "from_page       0\n",
       "product_type    0\n",
       "dtype: int64"
      ]
     },
     "execution_count": 111,
     "metadata": {},
     "output_type": "execute_result"
    }
   ],
   "source": [
    "transactions_test.isna().sum()"
   ]
  },
  {
   "cell_type": "code",
   "execution_count": 112,
   "metadata": {},
   "outputs": [
    {
     "data": {
      "text/plain": [
       "uid             630\n",
       "country         630\n",
       "joined_at       630\n",
       "paid_at         630\n",
       "revenue         630\n",
       "payment_id      630\n",
       "from_page       630\n",
       "product_type    630\n",
       "dtype: int64"
      ]
     },
     "execution_count": 112,
     "metadata": {},
     "output_type": "execute_result"
    }
   ],
   "source": [
    "transactions_control1.isna().sum()"
   ]
  },
  {
   "cell_type": "code",
   "execution_count": 113,
   "metadata": {},
   "outputs": [
    {
     "data": {
      "text/plain": [
       "uid             0\n",
       "country         0\n",
       "joined_at       0\n",
       "paid_at         0\n",
       "revenue         0\n",
       "payment_id      0\n",
       "from_page       0\n",
       "product_type    0\n",
       "dtype: int64"
      ]
     },
     "execution_count": 113,
     "metadata": {},
     "output_type": "execute_result"
    }
   ],
   "source": [
    "transactions_control2.isna().sum()"
   ]
  },
  {
   "cell_type": "code",
   "execution_count": 114,
   "metadata": {},
   "outputs": [
    {
     "data": {
      "text/html": [
       "<div>\n",
       "<style scoped>\n",
       "    .dataframe tbody tr th:only-of-type {\n",
       "        vertical-align: middle;\n",
       "    }\n",
       "\n",
       "    .dataframe tbody tr th {\n",
       "        vertical-align: top;\n",
       "    }\n",
       "\n",
       "    .dataframe thead th {\n",
       "        text-align: right;\n",
       "    }\n",
       "</style>\n",
       "<table border=\"1\" class=\"dataframe\">\n",
       "  <thead>\n",
       "    <tr style=\"text-align: right;\">\n",
       "      <th></th>\n",
       "      <th>uid</th>\n",
       "      <th>country</th>\n",
       "      <th>joined_at</th>\n",
       "      <th>paid_at</th>\n",
       "      <th>revenue</th>\n",
       "      <th>payment_id</th>\n",
       "      <th>from_page</th>\n",
       "      <th>product_type</th>\n",
       "    </tr>\n",
       "  </thead>\n",
       "  <tbody>\n",
       "    <tr>\n",
       "      <th>1002</th>\n",
       "      <td>NaN</td>\n",
       "      <td>NaN</td>\n",
       "      <td>NaT</td>\n",
       "      <td>NaT</td>\n",
       "      <td>NaN</td>\n",
       "      <td>NaN</td>\n",
       "      <td>NaN</td>\n",
       "      <td>NaN</td>\n",
       "    </tr>\n",
       "    <tr>\n",
       "      <th>1003</th>\n",
       "      <td>NaN</td>\n",
       "      <td>NaN</td>\n",
       "      <td>NaT</td>\n",
       "      <td>NaT</td>\n",
       "      <td>NaN</td>\n",
       "      <td>NaN</td>\n",
       "      <td>NaN</td>\n",
       "      <td>NaN</td>\n",
       "    </tr>\n",
       "    <tr>\n",
       "      <th>1004</th>\n",
       "      <td>NaN</td>\n",
       "      <td>NaN</td>\n",
       "      <td>NaT</td>\n",
       "      <td>NaT</td>\n",
       "      <td>NaN</td>\n",
       "      <td>NaN</td>\n",
       "      <td>NaN</td>\n",
       "      <td>NaN</td>\n",
       "    </tr>\n",
       "    <tr>\n",
       "      <th>1005</th>\n",
       "      <td>NaN</td>\n",
       "      <td>NaN</td>\n",
       "      <td>NaT</td>\n",
       "      <td>NaT</td>\n",
       "      <td>NaN</td>\n",
       "      <td>NaN</td>\n",
       "      <td>NaN</td>\n",
       "      <td>NaN</td>\n",
       "    </tr>\n",
       "    <tr>\n",
       "      <th>1006</th>\n",
       "      <td>NaN</td>\n",
       "      <td>NaN</td>\n",
       "      <td>NaT</td>\n",
       "      <td>NaT</td>\n",
       "      <td>NaN</td>\n",
       "      <td>NaN</td>\n",
       "      <td>NaN</td>\n",
       "      <td>NaN</td>\n",
       "    </tr>\n",
       "  </tbody>\n",
       "</table>\n",
       "</div>"
      ],
      "text/plain": [
       "      uid country joined_at paid_at  revenue  payment_id from_page  \\\n",
       "1002  NaN     NaN       NaT     NaT      NaN         NaN       NaN   \n",
       "1003  NaN     NaN       NaT     NaT      NaN         NaN       NaN   \n",
       "1004  NaN     NaN       NaT     NaT      NaN         NaN       NaN   \n",
       "1005  NaN     NaN       NaT     NaT      NaN         NaN       NaN   \n",
       "1006  NaN     NaN       NaT     NaT      NaN         NaN       NaN   \n",
       "\n",
       "     product_type  \n",
       "1002          NaN  \n",
       "1003          NaN  \n",
       "1004          NaN  \n",
       "1005          NaN  \n",
       "1006          NaN  "
      ]
     },
     "execution_count": 114,
     "metadata": {},
     "output_type": "execute_result"
    }
   ],
   "source": [
    "# в данных о транзакциях пользователей 1й контрольной группы много пропущенных значений\n",
    "transactions_control1.tail()"
   ]
  },
  {
   "cell_type": "code",
   "execution_count": 115,
   "metadata": {},
   "outputs": [
    {
     "data": {
      "text/plain": [
       "uid             0\n",
       "country         0\n",
       "joined_at       0\n",
       "paid_at         0\n",
       "revenue         0\n",
       "payment_id      0\n",
       "from_page       0\n",
       "product_type    0\n",
       "dtype: int64"
      ]
     },
     "execution_count": 115,
     "metadata": {},
     "output_type": "execute_result"
    }
   ],
   "source": [
    "# Из датафрейма transactions_control1 удалим пустые значения. Очевидно, при выгрузке данных что-то засбоило.\n",
    "transactions_control1 = transactions_control1.dropna()\n",
    "transactions_control1.isna().sum()"
   ]
  },
  {
   "cell_type": "markdown",
   "metadata": {},
   "source": [
    "Вывод: датафреймы (после некоторой доработки), по крайней мере, однотипны. \n",
    "\n",
    "Объединим датафреймы для удобства обработки и рассмотрим распределение переменных"
   ]
  },
  {
   "cell_type": "code",
   "execution_count": 116,
   "metadata": {},
   "outputs": [
    {
     "data": {
      "text/html": [
       "<div>\n",
       "<style scoped>\n",
       "    .dataframe tbody tr th:only-of-type {\n",
       "        vertical-align: middle;\n",
       "    }\n",
       "\n",
       "    .dataframe tbody tr th {\n",
       "        vertical-align: top;\n",
       "    }\n",
       "\n",
       "    .dataframe thead th {\n",
       "        text-align: right;\n",
       "    }\n",
       "</style>\n",
       "<table border=\"1\" class=\"dataframe\">\n",
       "  <thead>\n",
       "    <tr style=\"text-align: right;\">\n",
       "      <th></th>\n",
       "      <th>uid</th>\n",
       "      <th>age</th>\n",
       "      <th>attraction_coeff</th>\n",
       "      <th>coins</th>\n",
       "      <th>country</th>\n",
       "      <th>visit_days</th>\n",
       "      <th>gender</th>\n",
       "      <th>age_filter_start</th>\n",
       "      <th>age_filter_end</th>\n",
       "      <th>views_count</th>\n",
       "      <th>was_premium</th>\n",
       "      <th>is_premium</th>\n",
       "      <th>total_revenue</th>\n",
       "      <th>group</th>\n",
       "    </tr>\n",
       "  </thead>\n",
       "  <tbody>\n",
       "    <tr>\n",
       "      <th>0</th>\n",
       "      <td>892309896</td>\n",
       "      <td>27</td>\n",
       "      <td>685</td>\n",
       "      <td>NaN</td>\n",
       "      <td>United States of America</td>\n",
       "      <td>1,2,3,4,5,6,7,8,9,10,11,12,16,17</td>\n",
       "      <td>1</td>\n",
       "      <td>24</td>\n",
       "      <td>30</td>\n",
       "      <td>89</td>\n",
       "      <td>NaN</td>\n",
       "      <td>NaN</td>\n",
       "      <td>0</td>\n",
       "      <td>test</td>\n",
       "    </tr>\n",
       "    <tr>\n",
       "      <th>1</th>\n",
       "      <td>892044516</td>\n",
       "      <td>27</td>\n",
       "      <td>0</td>\n",
       "      <td>NaN</td>\n",
       "      <td>Germany</td>\n",
       "      <td>NaN</td>\n",
       "      <td>1</td>\n",
       "      <td>24</td>\n",
       "      <td>30</td>\n",
       "      <td>0</td>\n",
       "      <td>NaN</td>\n",
       "      <td>NaN</td>\n",
       "      <td>0</td>\n",
       "      <td>test</td>\n",
       "    </tr>\n",
       "    <tr>\n",
       "      <th>2</th>\n",
       "      <td>892185708</td>\n",
       "      <td>45</td>\n",
       "      <td>44</td>\n",
       "      <td>NaN</td>\n",
       "      <td>Israel</td>\n",
       "      <td>1,3,4,6,7,8,10,11,12,13,14,15,16,17,18,19,20,2...</td>\n",
       "      <td>1</td>\n",
       "      <td>42</td>\n",
       "      <td>48</td>\n",
       "      <td>68</td>\n",
       "      <td>NaN</td>\n",
       "      <td>NaN</td>\n",
       "      <td>0</td>\n",
       "      <td>test</td>\n",
       "    </tr>\n",
       "    <tr>\n",
       "      <th>3</th>\n",
       "      <td>892130292</td>\n",
       "      <td>32</td>\n",
       "      <td>0</td>\n",
       "      <td>NaN</td>\n",
       "      <td>United States of America</td>\n",
       "      <td>1,2,3,4,5,6,7,8,9,10,11,12</td>\n",
       "      <td>1</td>\n",
       "      <td>29</td>\n",
       "      <td>35</td>\n",
       "      <td>0</td>\n",
       "      <td>NaN</td>\n",
       "      <td>NaN</td>\n",
       "      <td>0</td>\n",
       "      <td>test</td>\n",
       "    </tr>\n",
       "    <tr>\n",
       "      <th>4</th>\n",
       "      <td>891406035</td>\n",
       "      <td>27</td>\n",
       "      <td>1000</td>\n",
       "      <td>NaN</td>\n",
       "      <td>France</td>\n",
       "      <td>NaN</td>\n",
       "      <td>1</td>\n",
       "      <td>24</td>\n",
       "      <td>30</td>\n",
       "      <td>1</td>\n",
       "      <td>1.0</td>\n",
       "      <td>NaN</td>\n",
       "      <td>0</td>\n",
       "      <td>test</td>\n",
       "    </tr>\n",
       "  </tbody>\n",
       "</table>\n",
       "</div>"
      ],
      "text/plain": [
       "         uid  age  attraction_coeff  coins                   country  \\\n",
       "0  892309896   27               685    NaN  United States of America   \n",
       "1  892044516   27                 0    NaN                   Germany   \n",
       "2  892185708   45                44    NaN                    Israel   \n",
       "3  892130292   32                 0    NaN  United States of America   \n",
       "4  891406035   27              1000    NaN                    France   \n",
       "\n",
       "                                          visit_days  gender  \\\n",
       "0                   1,2,3,4,5,6,7,8,9,10,11,12,16,17       1   \n",
       "1                                                NaN       1   \n",
       "2  1,3,4,6,7,8,10,11,12,13,14,15,16,17,18,19,20,2...       1   \n",
       "3                         1,2,3,4,5,6,7,8,9,10,11,12       1   \n",
       "4                                                NaN       1   \n",
       "\n",
       "   age_filter_start  age_filter_end  views_count  was_premium  is_premium  \\\n",
       "0                24              30           89          NaN         NaN   \n",
       "1                24              30            0          NaN         NaN   \n",
       "2                42              48           68          NaN         NaN   \n",
       "3                29              35            0          NaN         NaN   \n",
       "4                24              30            1          1.0         NaN   \n",
       "\n",
       "   total_revenue group  \n",
       "0              0  test  \n",
       "1              0  test  \n",
       "2              0  test  \n",
       "3              0  test  \n",
       "4              0  test  "
      ]
     },
     "execution_count": 116,
     "metadata": {},
     "output_type": "execute_result"
    }
   ],
   "source": [
    "users_test['group'] = 'test'\n",
    "users_control1['group'] = 'control1'\n",
    "users_control2['group'] = 'control2'\n",
    "users = pd.concat([users_test, users_control1, users_control2])\n",
    "users.head()"
   ]
  },
  {
   "cell_type": "code",
   "execution_count": 117,
   "metadata": {},
   "outputs": [
    {
     "data": {
      "text/html": [
       "<div>\n",
       "<style scoped>\n",
       "    .dataframe tbody tr th:only-of-type {\n",
       "        vertical-align: middle;\n",
       "    }\n",
       "\n",
       "    .dataframe tbody tr th {\n",
       "        vertical-align: top;\n",
       "    }\n",
       "\n",
       "    .dataframe thead th {\n",
       "        text-align: right;\n",
       "    }\n",
       "</style>\n",
       "<table border=\"1\" class=\"dataframe\">\n",
       "  <thead>\n",
       "    <tr style=\"text-align: right;\">\n",
       "      <th></th>\n",
       "      <th>uid</th>\n",
       "      <th>country</th>\n",
       "      <th>joined_at</th>\n",
       "      <th>paid_at</th>\n",
       "      <th>revenue</th>\n",
       "      <th>payment_id</th>\n",
       "      <th>from_page</th>\n",
       "      <th>product_type</th>\n",
       "      <th>group</th>\n",
       "    </tr>\n",
       "  </thead>\n",
       "  <tbody>\n",
       "    <tr>\n",
       "      <th>0</th>\n",
       "      <td>891345942.0</td>\n",
       "      <td>Italy</td>\n",
       "      <td>2017-05-11 13:00:00</td>\n",
       "      <td>2017-11-13 15:04:00</td>\n",
       "      <td>12909.0</td>\n",
       "      <td>147.0</td>\n",
       "      <td>trial_vip_popup</td>\n",
       "      <td>trial_premium</td>\n",
       "      <td>test</td>\n",
       "    </tr>\n",
       "    <tr>\n",
       "      <th>1</th>\n",
       "      <td>892054251.0</td>\n",
       "      <td>United States of America</td>\n",
       "      <td>2017-10-22 00:33:00</td>\n",
       "      <td>2017-10-30 01:37:00</td>\n",
       "      <td>13923.0</td>\n",
       "      <td>147.0</td>\n",
       "      <td>trial_vip_popup</td>\n",
       "      <td>trial_premium</td>\n",
       "      <td>test</td>\n",
       "    </tr>\n",
       "    <tr>\n",
       "      <th>2</th>\n",
       "      <td>892236423.0</td>\n",
       "      <td>United States of America</td>\n",
       "      <td>2017-10-18 01:09:00</td>\n",
       "      <td>2017-10-23 00:15:00</td>\n",
       "      <td>3783.0</td>\n",
       "      <td>67.0</td>\n",
       "      <td>menu</td>\n",
       "      <td>other_type</td>\n",
       "      <td>test</td>\n",
       "    </tr>\n",
       "    <tr>\n",
       "      <th>3</th>\n",
       "      <td>892236423.0</td>\n",
       "      <td>United States of America</td>\n",
       "      <td>2017-10-18 01:09:00</td>\n",
       "      <td>2017-10-27 22:38:00</td>\n",
       "      <td>3783.0</td>\n",
       "      <td>67.0</td>\n",
       "      <td>menu</td>\n",
       "      <td>other_type</td>\n",
       "      <td>test</td>\n",
       "    </tr>\n",
       "    <tr>\n",
       "      <th>4</th>\n",
       "      <td>892168170.0</td>\n",
       "      <td>United States of America</td>\n",
       "      <td>2017-10-19 17:10:00</td>\n",
       "      <td>2017-10-27 19:10:00</td>\n",
       "      <td>9087.0</td>\n",
       "      <td>147.0</td>\n",
       "      <td>trial_vip_popup</td>\n",
       "      <td>trial_premium</td>\n",
       "      <td>test</td>\n",
       "    </tr>\n",
       "  </tbody>\n",
       "</table>\n",
       "</div>"
      ],
      "text/plain": [
       "           uid                   country           joined_at  \\\n",
       "0  891345942.0                     Italy 2017-05-11 13:00:00   \n",
       "1  892054251.0  United States of America 2017-10-22 00:33:00   \n",
       "2  892236423.0  United States of America 2017-10-18 01:09:00   \n",
       "3  892236423.0  United States of America 2017-10-18 01:09:00   \n",
       "4  892168170.0  United States of America 2017-10-19 17:10:00   \n",
       "\n",
       "              paid_at  revenue  payment_id        from_page   product_type  \\\n",
       "0 2017-11-13 15:04:00  12909.0       147.0  trial_vip_popup  trial_premium   \n",
       "1 2017-10-30 01:37:00  13923.0       147.0  trial_vip_popup  trial_premium   \n",
       "2 2017-10-23 00:15:00   3783.0        67.0             menu     other_type   \n",
       "3 2017-10-27 22:38:00   3783.0        67.0             menu     other_type   \n",
       "4 2017-10-27 19:10:00   9087.0       147.0  trial_vip_popup  trial_premium   \n",
       "\n",
       "  group  \n",
       "0  test  \n",
       "1  test  \n",
       "2  test  \n",
       "3  test  \n",
       "4  test  "
      ]
     },
     "execution_count": 117,
     "metadata": {},
     "output_type": "execute_result"
    }
   ],
   "source": [
    "transactions_test['group'] = 'test'\n",
    "transactions_control1['group'] = 'control1'\n",
    "transactions_control2['group'] = 'control2'\n",
    "transactions = pd.concat([transactions_test, transactions_control1, transactions_control2])\n",
    "transactions.head()"
   ]
  },
  {
   "cell_type": "code",
   "execution_count": 118,
   "metadata": {},
   "outputs": [
    {
     "data": {
      "text/plain": [
       "(12912, 14)"
      ]
     },
     "execution_count": 118,
     "metadata": {},
     "output_type": "execute_result"
    }
   ],
   "source": [
    "users.shape"
   ]
  },
  {
   "cell_type": "code",
   "execution_count": 119,
   "metadata": {},
   "outputs": [
    {
     "data": {
      "text/plain": [
       "uid                 12912\n",
       "age                    69\n",
       "attraction_coeff      847\n",
       "coins                  50\n",
       "country                72\n",
       "visit_days           2132\n",
       "gender                  2\n",
       "age_filter_start       67\n",
       "age_filter_end         81\n",
       "views_count           564\n",
       "was_premium             1\n",
       "is_premium              1\n",
       "total_revenue         293\n",
       "group                   3\n",
       "dtype: int64"
      ]
     },
     "execution_count": 119,
     "metadata": {},
     "output_type": "execute_result"
    }
   ],
   "source": [
    "users.nunique()"
   ]
  },
  {
   "cell_type": "code",
   "execution_count": 120,
   "metadata": {},
   "outputs": [
    {
     "data": {
      "image/png": "[encoded data removed]",
      "text/plain": [
       "<Figure size 436.875x360 with 1 Axes>"
      ]
     },
     "metadata": {
      "needs_background": "light"
     },
     "output_type": "display_data"
    }
   ],
   "source": [
    "# распределение переменной age (возраст пользователей) в 3х группах\n",
    "sns.displot(data=users, x='age', kde=True, kind='hist', hue='group')\n",
    "plt.title('Распределение выручки в зависимости от возраста')\n",
    "plt.xlabel('Возраст')\n",
    "plt.ylabel('Кол-во пользователей');"
   ]
  },
  {
   "cell_type": "markdown",
   "metadata": {},
   "source": [
    "Распределения по возрасту отличаются в разных группах, но нельзя сказать наверняка, что группы различаются"
   ]
  },
  {
   "cell_type": "code",
   "execution_count": 121,
   "metadata": {
    "scrolled": true
   },
   "outputs": [
    {
     "data": {
      "image/png": "[encoded data removed]",
      "text/plain": [
       "<Figure size 364.875x288 with 1 Axes>"
      ]
     },
     "metadata": {
      "needs_background": "light"
     },
     "output_type": "display_data"
    }
   ],
   "source": [
    "# распределение переменной attraction_coeff (привлекательность) в 3х группах\n",
    "sns.displot(data=users, x='attraction_coeff', kind='hist', kde=True, hue='group', height=4)\n",
    "plt.title('Распределение выручки в зависимости от привлекательности пользователей')\n",
    "plt.xlabel('Привлекательность')\n",
    "plt.ylabel('Кол-во пользователей');"
   ]
  },
  {
   "cell_type": "markdown",
   "metadata": {},
   "source": [
    "Распределение привлекательности пользователей в 3х группах схоже"
   ]
  },
  {
   "cell_type": "code",
   "execution_count": 122,
   "metadata": {},
   "outputs": [
    {
     "data": {
      "image/png": "[encoded data removed]",
      "text/plain": [
       "<Figure size 436.875x360 with 1 Axes>"
      ]
     },
     "metadata": {
      "needs_background": "light"
     },
     "output_type": "display_data"
    }
   ],
   "source": [
    "# распределение переменной views_count (кол-во полученных оценок) в 3х группах\n",
    "sns.displot(data=users, x='views_count', kind='hist', kde=True, hue='group')\n",
    "plt.title('Распределение выручки в зависимости от кол-ва полученных оценок')\n",
    "plt.xlabel('Кол-во оценок')\n",
    "plt.ylabel('Кол-во пользователей');"
   ]
  },
  {
   "cell_type": "code",
   "execution_count": 123,
   "metadata": {},
   "outputs": [
    {
     "data": {
      "image/png": "[encoded data removed]",
      "text/plain": [
       "<Figure size 436.875x360 with 1 Axes>"
      ]
     },
     "metadata": {
      "needs_background": "light"
     },
     "output_type": "display_data"
    }
   ],
   "source": [
    "# рассмотрим переменную views_count в логарифмическом масштабе (исключив предварительно нулевые значения)\n",
    "sns.displot(data=users.query('views_count > 0'), x='views_count', \n",
    "            kind='hist', kde=True, hue='group', log_scale=True)\n",
    "plt.title('Распределение выручки в зависимости от кол-ва полученных оценок (логарифмический масштаб)')\n",
    "plt.xlabel('Кол-во оценок (лог)')\n",
    "plt.ylabel('Кол-во пользователей');"
   ]
  },
  {
   "cell_type": "markdown",
   "metadata": {},
   "source": [
    "Переменная \"кол-во просмотров\" распределена крайне неравномерно. У основного количества пользователей нулевое или минимальное количество просмотров, но у некоторых оно очень велико. Рассмотрим пользователей с кол-вом просмотров более 5000"
   ]
  },
  {
   "cell_type": "code",
   "execution_count": 124,
   "metadata": {},
   "outputs": [
    {
     "data": {
      "text/plain": [
       "(5, 14)"
      ]
     },
     "execution_count": 124,
     "metadata": {},
     "output_type": "execute_result"
    }
   ],
   "source": [
    "users.query('views_count > 5000').shape"
   ]
  },
  {
   "cell_type": "code",
   "execution_count": 125,
   "metadata": {},
   "outputs": [
    {
     "data": {
      "text/html": [
       "<div>\n",
       "<style scoped>\n",
       "    .dataframe tbody tr th:only-of-type {\n",
       "        vertical-align: middle;\n",
       "    }\n",
       "\n",
       "    .dataframe tbody tr th {\n",
       "        vertical-align: top;\n",
       "    }\n",
       "\n",
       "    .dataframe thead th {\n",
       "        text-align: right;\n",
       "    }\n",
       "</style>\n",
       "<table border=\"1\" class=\"dataframe\">\n",
       "  <thead>\n",
       "    <tr style=\"text-align: right;\">\n",
       "      <th></th>\n",
       "      <th>uid</th>\n",
       "      <th>age</th>\n",
       "      <th>attraction_coeff</th>\n",
       "      <th>coins</th>\n",
       "      <th>country</th>\n",
       "      <th>visit_days</th>\n",
       "      <th>gender</th>\n",
       "      <th>age_filter_start</th>\n",
       "      <th>age_filter_end</th>\n",
       "      <th>views_count</th>\n",
       "      <th>was_premium</th>\n",
       "      <th>is_premium</th>\n",
       "      <th>total_revenue</th>\n",
       "      <th>group</th>\n",
       "    </tr>\n",
       "  </thead>\n",
       "  <tbody>\n",
       "    <tr>\n",
       "      <th>263</th>\n",
       "      <td>892237956</td>\n",
       "      <td>27</td>\n",
       "      <td>3</td>\n",
       "      <td>NaN</td>\n",
       "      <td>United States of America</td>\n",
       "      <td>1,2,3,4,5,6,7,8,9,10,11,12</td>\n",
       "      <td>0</td>\n",
       "      <td>24</td>\n",
       "      <td>30</td>\n",
       "      <td>7110</td>\n",
       "      <td>NaN</td>\n",
       "      <td>NaN</td>\n",
       "      <td>0</td>\n",
       "      <td>test</td>\n",
       "    </tr>\n",
       "    <tr>\n",
       "      <th>2937</th>\n",
       "      <td>905158620</td>\n",
       "      <td>16</td>\n",
       "      <td>579</td>\n",
       "      <td>8466.0</td>\n",
       "      <td>Russian Federation</td>\n",
       "      <td>1,2,4,5,6,7,8,9,10,11,13,14,15,16,17,18,19,26,...</td>\n",
       "      <td>0</td>\n",
       "      <td>26</td>\n",
       "      <td>33</td>\n",
       "      <td>12831</td>\n",
       "      <td>1.0</td>\n",
       "      <td>1.0</td>\n",
       "      <td>0</td>\n",
       "      <td>test</td>\n",
       "    </tr>\n",
       "    <tr>\n",
       "      <th>3310</th>\n",
       "      <td>891984801</td>\n",
       "      <td>31</td>\n",
       "      <td>302</td>\n",
       "      <td>NaN</td>\n",
       "      <td>Russian Federation</td>\n",
       "      <td>1,2,3,4,5,6,7,8,9,10,11,12,13,14,15,16,17,18,1...</td>\n",
       "      <td>0</td>\n",
       "      <td>28</td>\n",
       "      <td>34</td>\n",
       "      <td>5390</td>\n",
       "      <td>NaN</td>\n",
       "      <td>NaN</td>\n",
       "      <td>0</td>\n",
       "      <td>test</td>\n",
       "    </tr>\n",
       "    <tr>\n",
       "      <th>225</th>\n",
       "      <td>892032072</td>\n",
       "      <td>26</td>\n",
       "      <td>0</td>\n",
       "      <td>NaN</td>\n",
       "      <td>United Kingdom (Great Britain)</td>\n",
       "      <td>1,2,3</td>\n",
       "      <td>0</td>\n",
       "      <td>16</td>\n",
       "      <td>99</td>\n",
       "      <td>16157</td>\n",
       "      <td>1.0</td>\n",
       "      <td>NaN</td>\n",
       "      <td>3588</td>\n",
       "      <td>control2</td>\n",
       "    </tr>\n",
       "    <tr>\n",
       "      <th>1231</th>\n",
       "      <td>891380856</td>\n",
       "      <td>23</td>\n",
       "      <td>652</td>\n",
       "      <td>NaN</td>\n",
       "      <td>Turkey</td>\n",
       "      <td>1,2,3</td>\n",
       "      <td>0</td>\n",
       "      <td>20</td>\n",
       "      <td>26</td>\n",
       "      <td>6139</td>\n",
       "      <td>NaN</td>\n",
       "      <td>NaN</td>\n",
       "      <td>0</td>\n",
       "      <td>control2</td>\n",
       "    </tr>\n",
       "  </tbody>\n",
       "</table>\n",
       "</div>"
      ],
      "text/plain": [
       "            uid  age  attraction_coeff   coins  \\\n",
       "263   892237956   27                 3     NaN   \n",
       "2937  905158620   16               579  8466.0   \n",
       "3310  891984801   31               302     NaN   \n",
       "225   892032072   26                 0     NaN   \n",
       "1231  891380856   23               652     NaN   \n",
       "\n",
       "                             country  \\\n",
       "263         United States of America   \n",
       "2937              Russian Federation   \n",
       "3310              Russian Federation   \n",
       "225   United Kingdom (Great Britain)   \n",
       "1231                          Turkey   \n",
       "\n",
       "                                             visit_days  gender  \\\n",
       "263                          1,2,3,4,5,6,7,8,9,10,11,12       0   \n",
       "2937  1,2,4,5,6,7,8,9,10,11,13,14,15,16,17,18,19,26,...       0   \n",
       "3310  1,2,3,4,5,6,7,8,9,10,11,12,13,14,15,16,17,18,1...       0   \n",
       "225                                               1,2,3       0   \n",
       "1231                                              1,2,3       0   \n",
       "\n",
       "      age_filter_start  age_filter_end  views_count  was_premium  is_premium  \\\n",
       "263                 24              30         7110          NaN         NaN   \n",
       "2937                26              33        12831          1.0         1.0   \n",
       "3310                28              34         5390          NaN         NaN   \n",
       "225                 16              99        16157          1.0         NaN   \n",
       "1231                20              26         6139          NaN         NaN   \n",
       "\n",
       "      total_revenue     group  \n",
       "263               0      test  \n",
       "2937              0      test  \n",
       "3310              0      test  \n",
       "225            3588  control2  \n",
       "1231              0  control2  "
      ]
     },
     "execution_count": 125,
     "metadata": {},
     "output_type": "execute_result"
    }
   ],
   "source": [
    "users.query('views_count > 5000')"
   ]
  },
  {
   "cell_type": "markdown",
   "metadata": {},
   "source": [
    "С одной стороны, рассмотренные пользователи не типичны. Тем не менее, они могут быть важны для анализа, а на технические сбои при сборе статистики это не похоже. Эти пользователи останутся в выборке."
   ]
  },
  {
   "cell_type": "code",
   "execution_count": 126,
   "metadata": {
    "scrolled": true
   },
   "outputs": [
    {
     "data": {
      "image/png": "[encoded data removed]",
      "text/plain": [
       "<Figure size 364.875x288 with 1 Axes>"
      ]
     },
     "metadata": {
      "needs_background": "light"
     },
     "output_type": "display_data"
    }
   ],
   "source": [
    "# рассмотрим распределение переменной coins (локальная \"валюта\")\n",
    "sns.displot(data=users, x='coins', kind='kde', hue='group', height=4)\n",
    "plt.title('Распределение внутренней валюты')\n",
    "plt.xlabel('Кол-во coins')\n",
    "plt.ylabel('Плотность распределения');"
   ]
  },
  {
   "cell_type": "markdown",
   "metadata": {},
   "source": [
    "Пик в точке 0 (у большинства пользователей нет \"валюты\" на счете), что не позволяет рассмотреть ненулевые значения. При этом, предположительно, \"валюта\" может быть куплена за реальные деньги, т.е. приносить прибыль компании, и это стоит обязательно проверить в дальнейшем. Рассмотрим распределение в логарифмическом масштабе, удалив нулевые значения.\n",
    "Здесь и далее на графиках распределений переменных присутствуют отрицательные значения по оси абсцисс. Как мы убедились выше (см. вывод команды \"describe\"), это чисто технический эффект, то есть, на самом деле значения переменной coins и других неотрицательны."
   ]
  },
  {
   "cell_type": "code",
   "execution_count": 127,
   "metadata": {},
   "outputs": [
    {
     "data": {
      "image/png": "[encoded data removed]",
      "text/plain": [
       "<Figure size 436.875x360 with 1 Axes>"
      ]
     },
     "metadata": {
      "needs_background": "light"
     },
     "output_type": "display_data"
    }
   ],
   "source": [
    "# рассмотрим переменную views_count в логарифмическом масштабе (исключив предварительно нулевые значения)\n",
    "sns.displot(data=users.query('coins > 0'), x='coins', kind='kde', hue='group', log_scale=True)\n",
    "plt.title('Распределение внутренней валюты')\n",
    "plt.xlabel('Кол-во coins (лог.)')\n",
    "plt.ylabel('Плотность распределения');"
   ]
  },
  {
   "cell_type": "code",
   "execution_count": 128,
   "metadata": {},
   "outputs": [
    {
     "data": {
      "text/html": [
       "<div>\n",
       "<style scoped>\n",
       "    .dataframe tbody tr th:only-of-type {\n",
       "        vertical-align: middle;\n",
       "    }\n",
       "\n",
       "    .dataframe tbody tr th {\n",
       "        vertical-align: top;\n",
       "    }\n",
       "\n",
       "    .dataframe thead th {\n",
       "        text-align: right;\n",
       "    }\n",
       "</style>\n",
       "<table border=\"1\" class=\"dataframe\">\n",
       "  <thead>\n",
       "    <tr style=\"text-align: right;\">\n",
       "      <th></th>\n",
       "      <th>uid</th>\n",
       "      <th>age</th>\n",
       "      <th>attraction_coeff</th>\n",
       "      <th>coins</th>\n",
       "      <th>country</th>\n",
       "      <th>visit_days</th>\n",
       "      <th>gender</th>\n",
       "      <th>age_filter_start</th>\n",
       "      <th>age_filter_end</th>\n",
       "      <th>views_count</th>\n",
       "      <th>was_premium</th>\n",
       "      <th>is_premium</th>\n",
       "      <th>total_revenue</th>\n",
       "      <th>group</th>\n",
       "    </tr>\n",
       "  </thead>\n",
       "  <tbody>\n",
       "    <tr>\n",
       "      <th>2937</th>\n",
       "      <td>905158620</td>\n",
       "      <td>16</td>\n",
       "      <td>579</td>\n",
       "      <td>8466.0</td>\n",
       "      <td>Russian Federation</td>\n",
       "      <td>1,2,4,5,6,7,8,9,10,11,13,14,15,16,17,18,19,26,...</td>\n",
       "      <td>0</td>\n",
       "      <td>26</td>\n",
       "      <td>33</td>\n",
       "      <td>12831</td>\n",
       "      <td>1.0</td>\n",
       "      <td>1.0</td>\n",
       "      <td>0</td>\n",
       "      <td>test</td>\n",
       "    </tr>\n",
       "    <tr>\n",
       "      <th>510</th>\n",
       "      <td>960936960</td>\n",
       "      <td>30</td>\n",
       "      <td>4</td>\n",
       "      <td>99958.0</td>\n",
       "      <td>Russian Federation</td>\n",
       "      <td>1,2,3,4,7,8,9,10,11,14,15,16,17,18,21,22,23,24...</td>\n",
       "      <td>1</td>\n",
       "      <td>26</td>\n",
       "      <td>62</td>\n",
       "      <td>4262</td>\n",
       "      <td>1.0</td>\n",
       "      <td>1.0</td>\n",
       "      <td>26</td>\n",
       "      <td>control1</td>\n",
       "    </tr>\n",
       "    <tr>\n",
       "      <th>1427</th>\n",
       "      <td>892333905</td>\n",
       "      <td>22</td>\n",
       "      <td>175</td>\n",
       "      <td>3608.0</td>\n",
       "      <td>Italy</td>\n",
       "      <td>1,2,3,4,5,6,7,15</td>\n",
       "      <td>1</td>\n",
       "      <td>19</td>\n",
       "      <td>25</td>\n",
       "      <td>575</td>\n",
       "      <td>1.0</td>\n",
       "      <td>1.0</td>\n",
       "      <td>486330</td>\n",
       "      <td>control1</td>\n",
       "    </tr>\n",
       "  </tbody>\n",
       "</table>\n",
       "</div>"
      ],
      "text/plain": [
       "            uid  age  attraction_coeff    coins             country  \\\n",
       "2937  905158620   16               579   8466.0  Russian Federation   \n",
       "510   960936960   30                 4  99958.0  Russian Federation   \n",
       "1427  892333905   22               175   3608.0               Italy   \n",
       "\n",
       "                                             visit_days  gender  \\\n",
       "2937  1,2,4,5,6,7,8,9,10,11,13,14,15,16,17,18,19,26,...       0   \n",
       "510   1,2,3,4,7,8,9,10,11,14,15,16,17,18,21,22,23,24...       1   \n",
       "1427                                   1,2,3,4,5,6,7,15       1   \n",
       "\n",
       "      age_filter_start  age_filter_end  views_count  was_premium  is_premium  \\\n",
       "2937                26              33        12831          1.0         1.0   \n",
       "510                 26              62         4262          1.0         1.0   \n",
       "1427                19              25          575          1.0         1.0   \n",
       "\n",
       "      total_revenue     group  \n",
       "2937              0      test  \n",
       "510              26  control1  \n",
       "1427         486330  control1  "
      ]
     },
     "execution_count": 128,
     "metadata": {},
     "output_type": "execute_result"
    }
   ],
   "source": [
    "# рассмотрим \"топовых\" пользователей по кол-ву coins\n",
    "users.query('coins > 1000').head(4)"
   ]
  },
  {
   "cell_type": "markdown",
   "metadata": {},
   "source": [
    "Распределения переменной coins в тестовой группе по форме схоже с распределением в контрольных, однако явно отличается количественно. \n",
    "Пользователи с coins > 5000 - явные выбросы (остальные пользователи в этой выборке более типовые), к тому же не принесли большой прибыли. Не имеет смысла оставить их в выборке для анализа."
   ]
  },
  {
   "cell_type": "code",
   "execution_count": 129,
   "metadata": {
    "scrolled": false
   },
   "outputs": [
    {
     "data": {
      "image/png": "[encoded data removed]",
      "text/plain": [
       "<Figure size 436.875x360 with 1 Axes>"
      ]
     },
     "metadata": {
      "needs_background": "light"
     },
     "output_type": "display_data"
    }
   ],
   "source": [
    "# рассмотрим распределение переменной total_revenue (выручка с пользователя)\n",
    "sns.displot(data=users, x='total_revenue', kind='hist', kde=True, hue='group')\n",
    "plt.title('Распределение выручки')\n",
    "plt.xlabel('Выручка')\n",
    "plt.ylabel('Кол-во пользователей');"
   ]
  },
  {
   "cell_type": "markdown",
   "metadata": {},
   "source": [
    "Распределение имеет ярко выраженный пик в точке 0, т.е. большое количество пользователей ничего не платит в приложении. Но хотелось бы также взглянуть на ненулевую выручку, т.к. нас больше всего интересуют именно прибыль (ненулевая). Для этого рассмотрим переменную total_revenue в логарифмическом масштабе (исключив предварительно нулевые значения)"
   ]
  },
  {
   "cell_type": "code",
   "execution_count": 130,
   "metadata": {
    "scrolled": true
   },
   "outputs": [
    {
     "data": {
      "image/png": "[encoded data removed]",
      "text/plain": [
       "<Figure size 364.875x288 with 1 Axes>"
      ]
     },
     "metadata": {
      "needs_background": "light"
     },
     "output_type": "display_data"
    }
   ],
   "source": [
    "sns.displot(data=users.query('total_revenue > 0'), x='total_revenue', kind='kde', hue='group', log_scale=True, height=4)\n",
    "plt.title('Распределение выручки в логарифмическом масштабе')\n",
    "plt.xlabel('Выручка (лог.)')\n",
    "plt.ylabel('Плотность распределения');"
   ]
  },
  {
   "cell_type": "markdown",
   "metadata": {},
   "source": [
    "Переменная total_revenue, на первый взгляд, в тестовой группе распределена отлично от контрольных групп, а именно платящих пользователей стало меньше, но отдельные платежи выросли. Однако эффект, если он есть, не настолько очевиден, чтобы делать однозначные выводы - необходимо применить статистические инструменты."
   ]
  },
  {
   "cell_type": "markdown",
   "metadata": {},
   "source": [
    "## Дополнительные расчеты"
   ]
  },
  {
   "cell_type": "markdown",
   "metadata": {},
   "source": [
    "Добавим переменные interval_width (ширина интервала поиска), visits (кол-во посещений), last_visit (день последнего визита пользователя со дня его регистрации - как мера длительности присутствия пользователя в сервисе),  рассмотрим их распределение."
   ]
  },
  {
   "cell_type": "code",
   "execution_count": 131,
   "metadata": {
    "scrolled": true
   },
   "outputs": [
    {
     "data": {
      "text/html": [
       "<div>\n",
       "<style scoped>\n",
       "    .dataframe tbody tr th:only-of-type {\n",
       "        vertical-align: middle;\n",
       "    }\n",
       "\n",
       "    .dataframe tbody tr th {\n",
       "        vertical-align: top;\n",
       "    }\n",
       "\n",
       "    .dataframe thead th {\n",
       "        text-align: right;\n",
       "    }\n",
       "</style>\n",
       "<table border=\"1\" class=\"dataframe\">\n",
       "  <thead>\n",
       "    <tr style=\"text-align: right;\">\n",
       "      <th></th>\n",
       "      <th>uid</th>\n",
       "      <th>age</th>\n",
       "      <th>attraction_coeff</th>\n",
       "      <th>coins</th>\n",
       "      <th>country</th>\n",
       "      <th>visit_days</th>\n",
       "      <th>gender</th>\n",
       "      <th>age_filter_start</th>\n",
       "      <th>age_filter_end</th>\n",
       "      <th>views_count</th>\n",
       "      <th>was_premium</th>\n",
       "      <th>is_premium</th>\n",
       "      <th>total_revenue</th>\n",
       "      <th>group</th>\n",
       "      <th>interval_width</th>\n",
       "      <th>visits</th>\n",
       "      <th>last_visit</th>\n",
       "    </tr>\n",
       "  </thead>\n",
       "  <tbody>\n",
       "    <tr>\n",
       "      <th>0</th>\n",
       "      <td>892309896</td>\n",
       "      <td>27</td>\n",
       "      <td>685</td>\n",
       "      <td>NaN</td>\n",
       "      <td>United States of America</td>\n",
       "      <td>1,2,3,4,5,6,7,8,9,10,11,12,16,17</td>\n",
       "      <td>1</td>\n",
       "      <td>24</td>\n",
       "      <td>30</td>\n",
       "      <td>89</td>\n",
       "      <td>NaN</td>\n",
       "      <td>NaN</td>\n",
       "      <td>0</td>\n",
       "      <td>test</td>\n",
       "      <td>6</td>\n",
       "      <td>14</td>\n",
       "      <td>17.0</td>\n",
       "    </tr>\n",
       "    <tr>\n",
       "      <th>1</th>\n",
       "      <td>892044516</td>\n",
       "      <td>27</td>\n",
       "      <td>0</td>\n",
       "      <td>NaN</td>\n",
       "      <td>Germany</td>\n",
       "      <td>NaN</td>\n",
       "      <td>1</td>\n",
       "      <td>24</td>\n",
       "      <td>30</td>\n",
       "      <td>0</td>\n",
       "      <td>NaN</td>\n",
       "      <td>NaN</td>\n",
       "      <td>0</td>\n",
       "      <td>test</td>\n",
       "      <td>6</td>\n",
       "      <td>0</td>\n",
       "      <td>NaN</td>\n",
       "    </tr>\n",
       "    <tr>\n",
       "      <th>2</th>\n",
       "      <td>892185708</td>\n",
       "      <td>45</td>\n",
       "      <td>44</td>\n",
       "      <td>NaN</td>\n",
       "      <td>Israel</td>\n",
       "      <td>1,3,4,6,7,8,10,11,12,13,14,15,16,17,18,19,20,2...</td>\n",
       "      <td>1</td>\n",
       "      <td>42</td>\n",
       "      <td>48</td>\n",
       "      <td>68</td>\n",
       "      <td>NaN</td>\n",
       "      <td>NaN</td>\n",
       "      <td>0</td>\n",
       "      <td>test</td>\n",
       "      <td>6</td>\n",
       "      <td>20</td>\n",
       "      <td>26.0</td>\n",
       "    </tr>\n",
       "    <tr>\n",
       "      <th>3</th>\n",
       "      <td>892130292</td>\n",
       "      <td>32</td>\n",
       "      <td>0</td>\n",
       "      <td>NaN</td>\n",
       "      <td>United States of America</td>\n",
       "      <td>1,2,3,4,5,6,7,8,9,10,11,12</td>\n",
       "      <td>1</td>\n",
       "      <td>29</td>\n",
       "      <td>35</td>\n",
       "      <td>0</td>\n",
       "      <td>NaN</td>\n",
       "      <td>NaN</td>\n",
       "      <td>0</td>\n",
       "      <td>test</td>\n",
       "      <td>6</td>\n",
       "      <td>12</td>\n",
       "      <td>12.0</td>\n",
       "    </tr>\n",
       "    <tr>\n",
       "      <th>4</th>\n",
       "      <td>891406035</td>\n",
       "      <td>27</td>\n",
       "      <td>1000</td>\n",
       "      <td>NaN</td>\n",
       "      <td>France</td>\n",
       "      <td>NaN</td>\n",
       "      <td>1</td>\n",
       "      <td>24</td>\n",
       "      <td>30</td>\n",
       "      <td>1</td>\n",
       "      <td>1.0</td>\n",
       "      <td>NaN</td>\n",
       "      <td>0</td>\n",
       "      <td>test</td>\n",
       "      <td>6</td>\n",
       "      <td>0</td>\n",
       "      <td>NaN</td>\n",
       "    </tr>\n",
       "  </tbody>\n",
       "</table>\n",
       "</div>"
      ],
      "text/plain": [
       "         uid  age  attraction_coeff  coins                   country  \\\n",
       "0  892309896   27               685    NaN  United States of America   \n",
       "1  892044516   27                 0    NaN                   Germany   \n",
       "2  892185708   45                44    NaN                    Israel   \n",
       "3  892130292   32                 0    NaN  United States of America   \n",
       "4  891406035   27              1000    NaN                    France   \n",
       "\n",
       "                                          visit_days  gender  \\\n",
       "0                   1,2,3,4,5,6,7,8,9,10,11,12,16,17       1   \n",
       "1                                                NaN       1   \n",
       "2  1,3,4,6,7,8,10,11,12,13,14,15,16,17,18,19,20,2...       1   \n",
       "3                         1,2,3,4,5,6,7,8,9,10,11,12       1   \n",
       "4                                                NaN       1   \n",
       "\n",
       "   age_filter_start  age_filter_end  views_count  was_premium  is_premium  \\\n",
       "0                24              30           89          NaN         NaN   \n",
       "1                24              30            0          NaN         NaN   \n",
       "2                42              48           68          NaN         NaN   \n",
       "3                29              35            0          NaN         NaN   \n",
       "4                24              30            1          1.0         NaN   \n",
       "\n",
       "   total_revenue group  interval_width  visits  last_visit  \n",
       "0              0  test               6      14        17.0  \n",
       "1              0  test               6       0         NaN  \n",
       "2              0  test               6      20        26.0  \n",
       "3              0  test               6      12        12.0  \n",
       "4              0  test               6       0         NaN  "
      ]
     },
     "execution_count": 131,
     "metadata": {},
     "output_type": "execute_result"
    }
   ],
   "source": [
    "users['interval_width'] = users.age_filter_end - users.age_filter_start\n",
    "users['visits'] = users.visit_days.str.split(',', 0).apply(lambda x: 0 if x != x else len(x))\n",
    "users['last_visit'] = users.visit_days.str.split(',', 0).apply(lambda x: np.NaN if x != x else int(x[len(x) - 1]))\n",
    "users.head()"
   ]
  },
  {
   "cell_type": "code",
   "execution_count": 132,
   "metadata": {},
   "outputs": [
    {
     "data": {
      "image/png": "[encoded data removed]",
      "text/plain": [
       "<Figure size 436.875x360 with 1 Axes>"
      ]
     },
     "metadata": {
      "needs_background": "light"
     },
     "output_type": "display_data"
    }
   ],
   "source": [
    "# распределение переменной interval_width (ширина интервала возраста поиска)\n",
    "sns.displot(data=users, x='interval_width', kind='kde', hue='group')\n",
    "plt.title('Распределение ширины интервала поиска')\n",
    "plt.xlabel('Интервал поиска (разница между концом и началом интервала), лет')\n",
    "plt.ylabel('Плотность распределения');"
   ]
  },
  {
   "cell_type": "code",
   "execution_count": 133,
   "metadata": {
    "scrolled": true
   },
   "outputs": [
    {
     "data": {
      "image/png": "[encoded data removed]",
      "text/plain": [
       "<Figure size 364.875x288 with 1 Axes>"
      ]
     },
     "metadata": {
      "needs_background": "light"
     },
     "output_type": "display_data"
    }
   ],
   "source": [
    "# распределение переменной visits (кол-во визитов пользователя в приложение)\n",
    "sns.displot(data=users, x='visits', kind='kde', hue='group', height=4)\n",
    "plt.title('Распределение кол-ва визитов в приложение')\n",
    "plt.xlabel('Кол-во визитов')\n",
    "plt.ylabel('Плотность распределения');"
   ]
  },
  {
   "cell_type": "code",
   "execution_count": 134,
   "metadata": {
    "scrolled": false
   },
   "outputs": [
    {
     "data": {
      "image/png": "[encoded data removed]",
      "text/plain": [
       "<Figure size 436.875x360 with 1 Axes>"
      ]
     },
     "metadata": {
      "needs_background": "light"
     },
     "output_type": "display_data"
    }
   ],
   "source": [
    "# распределение переменной last_visit (день последнего визита)\n",
    "sns.displot(data=users, x='last_visit', kind='kde', hue='group')\n",
    "plt.title('Распределение дня последнего визита')\n",
    "plt.xlabel('Последний визит, д. (кол-во дней от регистрации пользователя до последнего визита)')\n",
    "plt.ylabel('Плотность распределения');"
   ]
  },
  {
   "cell_type": "markdown",
   "metadata": {},
   "source": [
    "Итак, распределение трех новых переменных схоже во всех группах"
   ]
  },
  {
   "cell_type": "code",
   "execution_count": 135,
   "metadata": {},
   "outputs": [],
   "source": [
    "# заменим в столбцах is_premium, was_premium, coins nan на 0\n",
    "users.is_premium = users.is_premium.fillna(0)\n",
    "users.was_premium = users.was_premium.fillna(0)\n",
    "users.coins = users.coins.fillna(0)"
   ]
  },
  {
   "cell_type": "code",
   "execution_count": 136,
   "metadata": {},
   "outputs": [
    {
     "data": {
      "text/html": [
       "<div>\n",
       "<style scoped>\n",
       "    .dataframe tbody tr th:only-of-type {\n",
       "        vertical-align: middle;\n",
       "    }\n",
       "\n",
       "    .dataframe tbody tr th {\n",
       "        vertical-align: top;\n",
       "    }\n",
       "\n",
       "    .dataframe thead th {\n",
       "        text-align: right;\n",
       "    }\n",
       "</style>\n",
       "<table border=\"1\" class=\"dataframe\">\n",
       "  <thead>\n",
       "    <tr style=\"text-align: right;\">\n",
       "      <th></th>\n",
       "      <th>was_premium</th>\n",
       "    </tr>\n",
       "    <tr>\n",
       "      <th>group</th>\n",
       "      <th></th>\n",
       "    </tr>\n",
       "  </thead>\n",
       "  <tbody>\n",
       "    <tr>\n",
       "      <th>control1</th>\n",
       "      <td>0.100461</td>\n",
       "    </tr>\n",
       "    <tr>\n",
       "      <th>control2</th>\n",
       "      <td>0.096388</td>\n",
       "    </tr>\n",
       "    <tr>\n",
       "      <th>test</th>\n",
       "      <td>0.094708</td>\n",
       "    </tr>\n",
       "  </tbody>\n",
       "</table>\n",
       "</div>"
      ],
      "text/plain": [
       "          was_premium\n",
       "group                \n",
       "control1     0.100461\n",
       "control2     0.096388\n",
       "test         0.094708"
      ]
     },
     "execution_count": 136,
     "metadata": {},
     "output_type": "execute_result"
    }
   ],
   "source": [
    "# распределение переменной was_premium \n",
    "users.groupby('group').agg({'was_premium': 'mean'})"
   ]
  },
  {
   "cell_type": "code",
   "execution_count": 137,
   "metadata": {},
   "outputs": [
    {
     "data": {
      "text/html": [
       "<div>\n",
       "<style scoped>\n",
       "    .dataframe tbody tr th:only-of-type {\n",
       "        vertical-align: middle;\n",
       "    }\n",
       "\n",
       "    .dataframe tbody tr th {\n",
       "        vertical-align: top;\n",
       "    }\n",
       "\n",
       "    .dataframe thead th {\n",
       "        text-align: right;\n",
       "    }\n",
       "</style>\n",
       "<table border=\"1\" class=\"dataframe\">\n",
       "  <thead>\n",
       "    <tr style=\"text-align: right;\">\n",
       "      <th></th>\n",
       "      <th>is_premium</th>\n",
       "    </tr>\n",
       "    <tr>\n",
       "      <th>group</th>\n",
       "      <th></th>\n",
       "    </tr>\n",
       "  </thead>\n",
       "  <tbody>\n",
       "    <tr>\n",
       "      <th>control1</th>\n",
       "      <td>0.044240</td>\n",
       "    </tr>\n",
       "    <tr>\n",
       "      <th>control2</th>\n",
       "      <td>0.044794</td>\n",
       "    </tr>\n",
       "    <tr>\n",
       "      <th>test</th>\n",
       "      <td>0.036444</td>\n",
       "    </tr>\n",
       "  </tbody>\n",
       "</table>\n",
       "</div>"
      ],
      "text/plain": [
       "          is_premium\n",
       "group               \n",
       "control1    0.044240\n",
       "control2    0.044794\n",
       "test        0.036444"
      ]
     },
     "execution_count": 137,
     "metadata": {},
     "output_type": "execute_result"
    }
   ],
   "source": [
    "# распределение переменной is_premium \n",
    "users.groupby('group').agg({'is_premium': 'mean'})"
   ]
  },
  {
   "cell_type": "markdown",
   "metadata": {},
   "source": [
    "Кол-во премиальных пользователей снизилось в тестовой группе по сравнению с контрольными. Однако не очевидно, случайный ли это эффект, для выяснения этого необходимо применение статистических методов."
   ]
  },
  {
   "cell_type": "code",
   "execution_count": 138,
   "metadata": {},
   "outputs": [
    {
     "data": {
      "text/html": [
       "<div>\n",
       "<style scoped>\n",
       "    .dataframe tbody tr th:only-of-type {\n",
       "        vertical-align: middle;\n",
       "    }\n",
       "\n",
       "    .dataframe tbody tr th {\n",
       "        vertical-align: top;\n",
       "    }\n",
       "\n",
       "    .dataframe thead th {\n",
       "        text-align: right;\n",
       "    }\n",
       "</style>\n",
       "<table border=\"1\" class=\"dataframe\">\n",
       "  <thead>\n",
       "    <tr style=\"text-align: right;\">\n",
       "      <th></th>\n",
       "      <th>num_users</th>\n",
       "      <th>total_revenue</th>\n",
       "      <th>num_paying_users</th>\n",
       "      <th>arppu_std</th>\n",
       "      <th>arpu</th>\n",
       "      <th>arppu</th>\n",
       "      <th>conversion</th>\n",
       "    </tr>\n",
       "    <tr>\n",
       "      <th>group</th>\n",
       "      <th></th>\n",
       "      <th></th>\n",
       "      <th></th>\n",
       "      <th></th>\n",
       "      <th></th>\n",
       "      <th></th>\n",
       "      <th></th>\n",
       "    </tr>\n",
       "  </thead>\n",
       "  <tbody>\n",
       "    <tr>\n",
       "      <th>control1</th>\n",
       "      <td>4340</td>\n",
       "      <td>2581267</td>\n",
       "      <td>192</td>\n",
       "      <td>35719.282523</td>\n",
       "      <td>594.761982</td>\n",
       "      <td>13444.098958</td>\n",
       "      <td>0.044240</td>\n",
       "    </tr>\n",
       "    <tr>\n",
       "      <th>control2</th>\n",
       "      <td>4264</td>\n",
       "      <td>1920438</td>\n",
       "      <td>187</td>\n",
       "      <td>9272.960475</td>\n",
       "      <td>450.384146</td>\n",
       "      <td>10269.721925</td>\n",
       "      <td>0.043856</td>\n",
       "    </tr>\n",
       "    <tr>\n",
       "      <th>test</th>\n",
       "      <td>4308</td>\n",
       "      <td>2300818</td>\n",
       "      <td>146</td>\n",
       "      <td>18058.118399</td>\n",
       "      <td>534.080316</td>\n",
       "      <td>15759.027397</td>\n",
       "      <td>0.033890</td>\n",
       "    </tr>\n",
       "  </tbody>\n",
       "</table>\n",
       "</div>"
      ],
      "text/plain": [
       "          num_users  total_revenue  num_paying_users     arppu_std  \\\n",
       "group                                                                \n",
       "control1       4340        2581267               192  35719.282523   \n",
       "control2       4264        1920438               187   9272.960475   \n",
       "test           4308        2300818               146  18058.118399   \n",
       "\n",
       "                arpu         arppu  conversion  \n",
       "group                                           \n",
       "control1  594.761982  13444.098958    0.044240  \n",
       "control2  450.384146  10269.721925    0.043856  \n",
       "test      534.080316  15759.027397    0.033890  "
      ]
     },
     "execution_count": 138,
     "metadata": {},
     "output_type": "execute_result"
    }
   ],
   "source": [
    "metrics = users.groupby('group').agg({'uid': 'count', 'total_revenue': 'sum'})\n",
    "\n",
    "metrics = metrics.rename(columns={\"uid\": \"num_users\"})\n",
    "\n",
    "metrics['num_paying_users'] = users[users.total_revenue > 0].groupby('group').agg({'uid': 'count'})\n",
    "# среднее квадратическое отклонение для arppu\n",
    "metrics['arppu_std'] = users[users.total_revenue > 0].groupby('group').agg({'total_revenue': 'std'})\n",
    "\n",
    "# средняя выручка на пользователя\n",
    "metrics['arpu'] = metrics.total_revenue / metrics.num_users\n",
    "# средняя выручка на платящего пользователя\n",
    "metrics['arppu'] = metrics.total_revenue / metrics.num_paying_users\n",
    "# конверсия\n",
    "metrics['conversion'] = metrics.num_paying_users / metrics.num_users\n",
    "\n",
    "metrics"
   ]
  },
  {
   "cell_type": "markdown",
   "metadata": {},
   "source": [
    "Доверительный интервал для разности пропорций: формула\n",
    "\n",
    "Мы используем следующую формулу для расчета доверительного интервала для разницы между двумя пропорциями населения:\n",
    "\n",
    "Доверительный интервал = (p 1 –p 2 ) +/- z*√(p 1 (1-p 1 )/n 1 + p 2 (1-p 2 )/n 2 )\n",
    "\n",
    "К сожалению, на этом сервере готовые функции для расчета этих доверительных интервалов использовать не удалось (модули не импортировались)"
   ]
  },
  {
   "cell_type": "code",
   "execution_count": 139,
   "metadata": {},
   "outputs": [
    {
     "name": "stdout",
     "output_type": "stream",
     "text": [
      "Доверительный интервал разницы конверсий (control1 - test): [ 0.002 ,  0.018 ], разница конверсий:  0.01\n",
      "Доверительный интервал разницы конверсий (control1 - test) в % от конверсии 1й контрольной группы: [ 4.94 ,  40.63 ]\n"
     ]
    }
   ],
   "source": [
    "cnv_left_ci = metrics.conversion['control1'] - metrics.conversion['test'] - 1.96 * \\\n",
    "              math.sqrt(metrics.conversion['control1'] * \n",
    "                        (1 - metrics.conversion['control1']) / metrics.num_users['control1'] + \n",
    "                         metrics.conversion['test'] * (1 - metrics.conversion['test']) / metrics.num_users['test'])\n",
    "cnv_right_ci = metrics.conversion['control1'] - metrics.conversion['test'] + 1.96 * \\\n",
    "               math.sqrt(metrics.conversion['test'] * (1 - metrics.conversion['test']) / metrics.num_users['control1'] + \n",
    "               metrics.conversion['test'] * (1 - metrics.conversion['test']) / metrics.num_users['test'])\n",
    "\n",
    "print('Доверительный интервал разницы конверсий (control1 - test): [', round(cnv_left_ci, 3), ', ', \n",
    "      round(cnv_right_ci, 3), '], разница конверсий: ', \n",
    "      round(metrics.conversion['control1'] - metrics.conversion['test'], 3))\n",
    "print('Доверительный интервал разницы конверсий (control1 - test) в % от конверсии 1й контрольной группы: [', \n",
    "      round(cnv_left_ci / metrics.conversion['control1'] * 100, 2), ', ', \n",
    "      round(cnv_right_ci / metrics.conversion['control1'] * 100, 2), ']')"
   ]
  },
  {
   "cell_type": "markdown",
   "metadata": {},
   "source": [
    "Доверительный интервал для разницы между средними: формула\n",
    "\n",
    "Мы используем следующую формулу для расчета доверительного интервала для разницы между двумя средними значениями:\n",
    "\n",
    "Доверительный интервал = ( x 1 – x 2 ) +/- t * √ ((s p 2 /n 1 ) + (s p 2 /n 2 ))\n",
    "\n",
    "куда:\n",
    "\n",
    "    x 1 , x 2 : среднее значение для образца 1, среднее значение для образца 2\n",
    "    t: t-критическое значение, основанное на доверительном уровне и (n1 +n2 -2) степенях свободы\n",
    "    s p 2 : объединенная дисперсия\n",
    "    n 1 , n 2 : размер выборки 1, размер выборки 2\n",
    "\n",
    "куда:\n",
    "\n",
    "    Объединенная дисперсия рассчитывается как: s p 2 = ((n 1 -1)s 1 2 + (n 2 -1)s 2 2 ) / (n 1 +n 2 -2)\n",
    "    Критическое значение t можно найти с помощью калькулятора обратного t-распределения."
   ]
  },
  {
   "cell_type": "code",
   "execution_count": 140,
   "metadata": {},
   "outputs": [
    {
     "name": "stdout",
     "output_type": "stream",
     "text": [
      "Доверительный интервал разницы arppu (control1 - test): [ 2284.66 ,  2345.2 ], разница arppu:  2314.93\n",
      "Насколько повысился arppu в тестовой группе относительно 1й контрольной. Довер. интервал в %: [ 16.99 ,  17.44 ]\n"
     ]
    }
   ],
   "source": [
    "arppu_total_std = (metrics.arppu_std['control1'] * (metrics.num_paying_users['control1'] - 1) + \n",
    "                   metrics.arppu_std['test'] * (metrics.num_paying_users['test'] - 1)) / \\\n",
    "                  (metrics.num_paying_users['control1'] + metrics.num_paying_users['test'])\n",
    "arppu_difference = metrics.arppu['test'] - metrics.arppu['control1']\n",
    "t_cr = scipy.stats.t.ppf(q=0.95, df=metrics.num_paying_users['control1'] + metrics.num_paying_users['test'] - 2)\n",
    "arppu_left_ci = arppu_difference - t_cr * math.sqrt(arppu_total_std / metrics.num_paying_users['control1'] + \n",
    "                arppu_total_std / metrics.num_paying_users['test']) \n",
    "arppu_right_ci = arppu_difference + t_cr * math.sqrt(arppu_total_std / metrics.num_paying_users['control1'] + \n",
    "                 arppu_total_std / metrics.num_paying_users['test']) \n",
    "print('Доверительный интервал разницы arppu (control1 - test): [', round(arppu_left_ci, 2), ', ', \n",
    "      round(arppu_right_ci, 2), '], разница arppu: ', round(arppu_difference, 2))\n",
    "print('Насколько повысился arppu в тестовой группе относительно 1й контрольной. Довер. интервал в %: [', \n",
    "      round(arppu_left_ci / metrics.arppu['control1'] * 100, 2), ', ', \n",
    "      round(arppu_right_ci / metrics.arppu['control1'] * 100, 2), ']')"
   ]
  },
  {
   "cell_type": "markdown",
   "metadata": {},
   "source": [
    "Итак, средняя выручка на одного пользователя в тестовой группе \"посередине\" между соответствующими показателями контрольных групп, выручка на платящего пользователя в тестовой группе увеличивается по отношению к контрольным группам, а конверсия - снижается.\n",
    "\n",
    "Рассмотрим \"популярность\" продуктов у пользователей"
   ]
  },
  {
   "cell_type": "code",
   "execution_count": 141,
   "metadata": {},
   "outputs": [
    {
     "data": {
      "text/html": [
       "<div>\n",
       "<style scoped>\n",
       "    .dataframe tbody tr th:only-of-type {\n",
       "        vertical-align: middle;\n",
       "    }\n",
       "\n",
       "    .dataframe tbody tr th {\n",
       "        vertical-align: top;\n",
       "    }\n",
       "\n",
       "    .dataframe thead tr th {\n",
       "        text-align: left;\n",
       "    }\n",
       "\n",
       "    .dataframe thead tr:last-of-type th {\n",
       "        text-align: right;\n",
       "    }\n",
       "</style>\n",
       "<table border=\"1\" class=\"dataframe\">\n",
       "  <thead>\n",
       "    <tr>\n",
       "      <th></th>\n",
       "      <th>fr_test_vs_control1</th>\n",
       "      <th>fr_test_vs_control2</th>\n",
       "      <th>arpu_test_vs_control1</th>\n",
       "      <th>arpu_test_vs_control2</th>\n",
       "    </tr>\n",
       "    <tr>\n",
       "      <th>group</th>\n",
       "      <th></th>\n",
       "      <th></th>\n",
       "      <th></th>\n",
       "      <th></th>\n",
       "    </tr>\n",
       "    <tr>\n",
       "      <th>product_type</th>\n",
       "      <th></th>\n",
       "      <th></th>\n",
       "      <th></th>\n",
       "      <th></th>\n",
       "    </tr>\n",
       "  </thead>\n",
       "  <tbody>\n",
       "    <tr>\n",
       "      <th>coins</th>\n",
       "      <td>0.716694</td>\n",
       "      <td>0.846108</td>\n",
       "      <td>0.654175</td>\n",
       "      <td>1.390868</td>\n",
       "    </tr>\n",
       "    <tr>\n",
       "      <th>other_type</th>\n",
       "      <td>0.531189</td>\n",
       "      <td>0.652359</td>\n",
       "      <td>0.897260</td>\n",
       "      <td>1.290231</td>\n",
       "    </tr>\n",
       "    <tr>\n",
       "      <th>premium_no_trial</th>\n",
       "      <td>0.722307</td>\n",
       "      <td>0.703026</td>\n",
       "      <td>1.048083</td>\n",
       "      <td>1.077358</td>\n",
       "    </tr>\n",
       "    <tr>\n",
       "      <th>trial_premium</th>\n",
       "      <td>0.932247</td>\n",
       "      <td>1.157863</td>\n",
       "      <td>1.043257</td>\n",
       "      <td>1.229895</td>\n",
       "    </tr>\n",
       "  </tbody>\n",
       "</table>\n",
       "</div>"
      ],
      "text/plain": [
       "                 fr_test_vs_control1 fr_test_vs_control2  \\\n",
       "group                                                      \n",
       "product_type                                               \n",
       "coins                       0.716694            0.846108   \n",
       "other_type                  0.531189            0.652359   \n",
       "premium_no_trial            0.722307            0.703026   \n",
       "trial_premium               0.932247            1.157863   \n",
       "\n",
       "                 arpu_test_vs_control1 arpu_test_vs_control2  \n",
       "group                                                         \n",
       "product_type                                                  \n",
       "coins                         0.654175              1.390868  \n",
       "other_type                    0.897260              1.290231  \n",
       "premium_no_trial              1.048083              1.077358  \n",
       "trial_premium                 1.043257              1.229895  "
      ]
     },
     "execution_count": 141,
     "metadata": {},
     "output_type": "execute_result"
    }
   ],
   "source": [
    "products = \\\n",
    "    transactions.groupby(['product_type', 'group'], as_index=False).agg({'revenue': 'sum', 'uid': 'count'})\n",
    "\n",
    "products = products.merge(users.groupby('group').agg({'uid': 'count'}), on='group')\n",
    "products = products.rename(columns={'uid_x': 'n_purchase', 'uid_y': 'n_users_in_group'})\n",
    "products['arpu'] = products.revenue / products.n_users_in_group\n",
    "products['buy_frequency'] = products.n_purchase / products.n_users_in_group\n",
    "products = products.pivot(index='product_type', columns='group', values=['buy_frequency', 'arpu'])\n",
    "products['fr_test_vs_control1'] = products.buy_frequency.test / products.buy_frequency.control1\n",
    "products['fr_test_vs_control2'] = products.buy_frequency.test / products.buy_frequency.control2\n",
    "products['arpu_test_vs_control1'] = products.arpu.test / products.arpu.control1\n",
    "products['arpu_test_vs_control2'] = products.arpu.test / products.arpu.control2\n",
    "\n",
    "products[['fr_test_vs_control1', 'fr_test_vs_control2', 'arpu_test_vs_control1', 'arpu_test_vs_control2']]"
   ]
  },
  {
   "cell_type": "markdown",
   "metadata": {},
   "source": [
    "Предположительно:\n",
    "\n",
    "1) По продукту trial_premium средняя выручка на пользователя в тестовой группе увеличилась, а частота покупок (\"популярность\") не изменилась.\n",
    "\n",
    "2) по продукту trial_no_premium средняя выручка на пользователя в тестовой группе увеличилась, а частота покупок снизилась.\n",
    "\n",
    "3) По остальным продуктам частота покупок в тестовой группе снизилась, а о средней выручке на пользователя ничего сказать нельзя. Таким образом, пользователи, покупающие coins и производящие платежи других типов (other_type), в контексте данного эксперимента нам менее интересны, чем покупающие premium. Это закономерно, так как суть эксперимента была именно в изменении стоимости премиум-подписки."
   ]
  },
  {
   "cell_type": "markdown",
   "metadata": {},
   "source": [
    "### Переменная country (страна) "
   ]
  },
  {
   "cell_type": "markdown",
   "metadata": {},
   "source": [
    "Самая важная информация - каких странах проводили эксперимент, однако в датасете ее нет. Это можно было бы выяснить в диалоге с бизнес-заказчиком (но такой возможности не было) либо проанализировав данные о транзакциях - но мы знаем, что стоимость изменилась лишь при использовании двух новых платежных систем (причем о платежных системах нет никакой информации), а не для всех пользователей."
   ]
  },
  {
   "cell_type": "code",
   "execution_count": 142,
   "metadata": {},
   "outputs": [
    {
     "data": {
      "text/html": [
       "<div>\n",
       "<style scoped>\n",
       "    .dataframe tbody tr th:only-of-type {\n",
       "        vertical-align: middle;\n",
       "    }\n",
       "\n",
       "    .dataframe tbody tr th {\n",
       "        vertical-align: top;\n",
       "    }\n",
       "\n",
       "    .dataframe thead th {\n",
       "        text-align: right;\n",
       "    }\n",
       "</style>\n",
       "<table border=\"1\" class=\"dataframe\">\n",
       "  <thead>\n",
       "    <tr style=\"text-align: right;\">\n",
       "      <th></th>\n",
       "      <th>country</th>\n",
       "      <th>rate</th>\n",
       "    </tr>\n",
       "  </thead>\n",
       "  <tbody>\n",
       "    <tr>\n",
       "      <th>0</th>\n",
       "      <td>United States of America</td>\n",
       "      <td>0.341310</td>\n",
       "    </tr>\n",
       "    <tr>\n",
       "      <th>1</th>\n",
       "      <td>Argentina</td>\n",
       "      <td>0.091543</td>\n",
       "    </tr>\n",
       "    <tr>\n",
       "      <th>2</th>\n",
       "      <td>France</td>\n",
       "      <td>0.085579</td>\n",
       "    </tr>\n",
       "    <tr>\n",
       "      <th>3</th>\n",
       "      <td>Italy</td>\n",
       "      <td>0.073885</td>\n",
       "    </tr>\n",
       "    <tr>\n",
       "      <th>4</th>\n",
       "      <td>Spain</td>\n",
       "      <td>0.073807</td>\n",
       "    </tr>\n",
       "    <tr>\n",
       "      <th>5</th>\n",
       "      <td>Chile</td>\n",
       "      <td>0.065443</td>\n",
       "    </tr>\n",
       "    <tr>\n",
       "      <th>6</th>\n",
       "      <td>United Arab Emirates</td>\n",
       "      <td>0.049876</td>\n",
       "    </tr>\n",
       "    <tr>\n",
       "      <th>7</th>\n",
       "      <td>Germany</td>\n",
       "      <td>0.046391</td>\n",
       "    </tr>\n",
       "    <tr>\n",
       "      <th>8</th>\n",
       "      <td>United Kingdom (Great Britain)</td>\n",
       "      <td>0.035703</td>\n",
       "    </tr>\n",
       "    <tr>\n",
       "      <th>9</th>\n",
       "      <td>Canada</td>\n",
       "      <td>0.031366</td>\n",
       "    </tr>\n",
       "    <tr>\n",
       "      <th>10</th>\n",
       "      <td>Israel</td>\n",
       "      <td>0.022692</td>\n",
       "    </tr>\n",
       "    <tr>\n",
       "      <th>11</th>\n",
       "      <td>Portugal</td>\n",
       "      <td>0.022537</td>\n",
       "    </tr>\n",
       "    <tr>\n",
       "      <th>12</th>\n",
       "      <td>Belgium</td>\n",
       "      <td>0.022460</td>\n",
       "    </tr>\n",
       "    <tr>\n",
       "      <th>13</th>\n",
       "      <td>Australia</td>\n",
       "      <td>0.012624</td>\n",
       "    </tr>\n",
       "    <tr>\n",
       "      <th>14</th>\n",
       "      <td>Switzerland</td>\n",
       "      <td>0.008674</td>\n",
       "    </tr>\n",
       "    <tr>\n",
       "      <th>15</th>\n",
       "      <td>Ukraine</td>\n",
       "      <td>0.003175</td>\n",
       "    </tr>\n",
       "    <tr>\n",
       "      <th>16</th>\n",
       "      <td>Russian Federation</td>\n",
       "      <td>0.001626</td>\n",
       "    </tr>\n",
       "    <tr>\n",
       "      <th>17</th>\n",
       "      <td>Turkey</td>\n",
       "      <td>0.001394</td>\n",
       "    </tr>\n",
       "    <tr>\n",
       "      <th>18</th>\n",
       "      <td>Mexico</td>\n",
       "      <td>0.001162</td>\n",
       "    </tr>\n",
       "    <tr>\n",
       "      <th>19</th>\n",
       "      <td>India</td>\n",
       "      <td>0.000929</td>\n",
       "    </tr>\n",
       "  </tbody>\n",
       "</table>\n",
       "</div>"
      ],
      "text/plain": [
       "                           country      rate\n",
       "0         United States of America  0.341310\n",
       "1                        Argentina  0.091543\n",
       "2                           France  0.085579\n",
       "3                            Italy  0.073885\n",
       "4                            Spain  0.073807\n",
       "5                            Chile  0.065443\n",
       "6             United Arab Emirates  0.049876\n",
       "7                          Germany  0.046391\n",
       "8   United Kingdom (Great Britain)  0.035703\n",
       "9                           Canada  0.031366\n",
       "10                          Israel  0.022692\n",
       "11                        Portugal  0.022537\n",
       "12                         Belgium  0.022460\n",
       "13                       Australia  0.012624\n",
       "14                     Switzerland  0.008674\n",
       "15                         Ukraine  0.003175\n",
       "16              Russian Federation  0.001626\n",
       "17                          Turkey  0.001394\n",
       "18                          Mexico  0.001162\n",
       "19                           India  0.000929"
      ]
     },
     "execution_count": 142,
     "metadata": {},
     "output_type": "execute_result"
    }
   ],
   "source": [
    "# Рассмотрим распределение пользователей по странам. Возможно, часть стран стоит исключить из анализа\n",
    "top_countries = pd.DataFrame(users.country.value_counts(normalize=True)).reset_index().\\\n",
    "    rename(columns={'country': 'rate', 'index': 'country'})\n",
    "top_countries.head(20)"
   ]
  },
  {
   "cell_type": "code",
   "execution_count": 143,
   "metadata": {},
   "outputs": [],
   "source": [
    "# Отмечаем страны, в которых не более 0.5% пользователей приложения, признаком \"Other\"\n",
    "users['top_country'] = \\\n",
    "    users.country.apply(lambda x: x if x in top_countries.query('rate > 0.005').country.values else 'Other')"
   ]
  },
  {
   "cell_type": "markdown",
   "metadata": {},
   "source": [
    "Проверим, схожи ли 3 группы пользователей в распределении по странам"
   ]
  },
  {
   "cell_type": "code",
   "execution_count": 144,
   "metadata": {},
   "outputs": [
    {
     "data": {
      "text/html": [
       "<div>\n",
       "<style scoped>\n",
       "    .dataframe tbody tr th:only-of-type {\n",
       "        vertical-align: middle;\n",
       "    }\n",
       "\n",
       "    .dataframe tbody tr th {\n",
       "        vertical-align: top;\n",
       "    }\n",
       "\n",
       "    .dataframe thead th {\n",
       "        text-align: right;\n",
       "    }\n",
       "</style>\n",
       "<table border=\"1\" class=\"dataframe\">\n",
       "  <thead>\n",
       "    <tr style=\"text-align: right;\">\n",
       "      <th>group</th>\n",
       "      <th>control1</th>\n",
       "      <th>control2</th>\n",
       "      <th>test</th>\n",
       "      <th>diff</th>\n",
       "    </tr>\n",
       "    <tr>\n",
       "      <th>top_country</th>\n",
       "      <th></th>\n",
       "      <th></th>\n",
       "      <th></th>\n",
       "      <th></th>\n",
       "    </tr>\n",
       "  </thead>\n",
       "  <tbody>\n",
       "    <tr>\n",
       "      <th>Israel</th>\n",
       "      <td>2.511521</td>\n",
       "      <td>1.829268</td>\n",
       "      <td>2.460539</td>\n",
       "      <td>0.27</td>\n",
       "    </tr>\n",
       "    <tr>\n",
       "      <th>Other</th>\n",
       "      <td>1.359447</td>\n",
       "      <td>1.618199</td>\n",
       "      <td>1.857010</td>\n",
       "      <td>0.27</td>\n",
       "    </tr>\n",
       "    <tr>\n",
       "      <th>Australia</th>\n",
       "      <td>1.152074</td>\n",
       "      <td>1.196060</td>\n",
       "      <td>1.439183</td>\n",
       "      <td>0.20</td>\n",
       "    </tr>\n",
       "    <tr>\n",
       "      <th>Switzerland</th>\n",
       "      <td>0.967742</td>\n",
       "      <td>0.820826</td>\n",
       "      <td>0.812442</td>\n",
       "      <td>0.16</td>\n",
       "    </tr>\n",
       "    <tr>\n",
       "      <th>Belgium</th>\n",
       "      <td>2.488479</td>\n",
       "      <td>2.110694</td>\n",
       "      <td>2.135562</td>\n",
       "      <td>0.15</td>\n",
       "    </tr>\n",
       "    <tr>\n",
       "      <th>United Kingdom (Great Britain)</th>\n",
       "      <td>3.364055</td>\n",
       "      <td>3.424015</td>\n",
       "      <td>3.922934</td>\n",
       "      <td>0.14</td>\n",
       "    </tr>\n",
       "    <tr>\n",
       "      <th>Italy</th>\n",
       "      <td>7.788018</td>\n",
       "      <td>6.871482</td>\n",
       "      <td>7.497679</td>\n",
       "      <td>0.12</td>\n",
       "    </tr>\n",
       "    <tr>\n",
       "      <th>Germany</th>\n",
       "      <td>4.331797</td>\n",
       "      <td>4.737336</td>\n",
       "      <td>4.851439</td>\n",
       "      <td>0.11</td>\n",
       "    </tr>\n",
       "    <tr>\n",
       "      <th>Spain</th>\n",
       "      <td>7.880184</td>\n",
       "      <td>7.270169</td>\n",
       "      <td>6.987001</td>\n",
       "      <td>0.11</td>\n",
       "    </tr>\n",
       "    <tr>\n",
       "      <th>Portugal</th>\n",
       "      <td>2.304147</td>\n",
       "      <td>2.345216</td>\n",
       "      <td>2.112349</td>\n",
       "      <td>0.10</td>\n",
       "    </tr>\n",
       "    <tr>\n",
       "      <th>United Arab Emirates</th>\n",
       "      <td>4.769585</td>\n",
       "      <td>4.948405</td>\n",
       "      <td>5.246054</td>\n",
       "      <td>0.09</td>\n",
       "    </tr>\n",
       "    <tr>\n",
       "      <th>Chile</th>\n",
       "      <td>6.612903</td>\n",
       "      <td>6.707317</td>\n",
       "      <td>6.313835</td>\n",
       "      <td>0.06</td>\n",
       "    </tr>\n",
       "    <tr>\n",
       "      <th>France</th>\n",
       "      <td>8.525346</td>\n",
       "      <td>8.818011</td>\n",
       "      <td>8.333333</td>\n",
       "      <td>0.05</td>\n",
       "    </tr>\n",
       "    <tr>\n",
       "      <th>Argentina</th>\n",
       "      <td>8.963134</td>\n",
       "      <td>9.310507</td>\n",
       "      <td>9.192201</td>\n",
       "      <td>0.04</td>\n",
       "    </tr>\n",
       "    <tr>\n",
       "      <th>Canada</th>\n",
       "      <td>3.087558</td>\n",
       "      <td>3.142589</td>\n",
       "      <td>3.180130</td>\n",
       "      <td>0.03</td>\n",
       "    </tr>\n",
       "    <tr>\n",
       "      <th>United States of America</th>\n",
       "      <td>33.894009</td>\n",
       "      <td>34.849906</td>\n",
       "      <td>33.658310</td>\n",
       "      <td>0.03</td>\n",
       "    </tr>\n",
       "  </tbody>\n",
       "</table>\n",
       "</div>"
      ],
      "text/plain": [
       "group                            control1   control2       test  diff\n",
       "top_country                                                          \n",
       "Israel                           2.511521   1.829268   2.460539  0.27\n",
       "Other                            1.359447   1.618199   1.857010  0.27\n",
       "Australia                        1.152074   1.196060   1.439183  0.20\n",
       "Switzerland                      0.967742   0.820826   0.812442  0.16\n",
       "Belgium                          2.488479   2.110694   2.135562  0.15\n",
       "United Kingdom (Great Britain)   3.364055   3.424015   3.922934  0.14\n",
       "Italy                            7.788018   6.871482   7.497679  0.12\n",
       "Germany                          4.331797   4.737336   4.851439  0.11\n",
       "Spain                            7.880184   7.270169   6.987001  0.11\n",
       "Portugal                         2.304147   2.345216   2.112349  0.10\n",
       "United Arab Emirates             4.769585   4.948405   5.246054  0.09\n",
       "Chile                            6.612903   6.707317   6.313835  0.06\n",
       "France                           8.525346   8.818011   8.333333  0.05\n",
       "Argentina                        8.963134   9.310507   9.192201  0.04\n",
       "Canada                           3.087558   3.142589   3.180130  0.03\n",
       "United States of America        33.894009  34.849906  33.658310  0.03"
      ]
     },
     "execution_count": 144,
     "metadata": {},
     "output_type": "execute_result"
    }
   ],
   "source": [
    "countries_distr = pd.pivot(users.groupby(['top_country', 'group'], as_index=False).agg({'uid': 'count'}), \n",
    "                  index=['top_country'], columns=['group'], values='uid')\n",
    "group_distr = users.groupby('group').agg({'uid': 'count'})\n",
    "countries_distr['control1'] = countries_distr['control1'] / group_distr.uid['control1'] * 100\n",
    "countries_distr['control2'] = countries_distr['control2'] / group_distr.uid['control2'] * 100\n",
    "countries_distr['test'] = countries_distr['test'] / group_distr.uid['test'] * 100\n",
    "# показатель \"неоднородности\" распределения пользователей по группам в рамках каждой страны (нужен для наглядности; \n",
    "# проверять, внутри стран есть преобладание той или иной группы, проверим статистически)\n",
    "countries_distr['diff'] = round((countries_distr.max(axis=1) - countries_distr.min(axis=1)) / countries_distr.max(axis=1), 2)\n",
    "countries_distr.sort_values('diff', ascending=False)"
   ]
  },
  {
   "cell_type": "markdown",
   "metadata": {},
   "source": [
    "Проверяется гипотеза Н0 о том, что распределения величин совпадают, с помощью критерия хи-квадрат на уровне значимости 0.05. Если p-value < 0.05, то гипотеза отклоняется (тогда распределения величин не совпадают)."
   ]
  },
  {
   "cell_type": "code",
   "execution_count": 145,
   "metadata": {},
   "outputs": [
    {
     "data": {
      "text/plain": [
       "Power_divergenceResult(statistic=array([0.57987505, 0.68859717]), pvalue=array([0.99999999, 0.99999998]))"
      ]
     },
     "execution_count": 145,
     "metadata": {},
     "output_type": "execute_result"
    }
   ],
   "source": [
    "chisquare(countries_distr.test, f_exp=[countries_distr.control2, countries_distr.control1], axis=1)"
   ]
  },
  {
   "cell_type": "markdown",
   "metadata": {},
   "source": [
    "Так как p-value в обоих случаях превышает 0.05, то сделаем вывод, что распределение пользователей каждой из стран по трем группам происходило \"правильно\", т.е. отбор в группы был случаен по этому признаку (на выбранном уровне значимости)."
   ]
  },
  {
   "cell_type": "markdown",
   "metadata": {},
   "source": [
    "### Работа с выбросами"
   ]
  },
  {
   "cell_type": "code",
   "execution_count": 146,
   "metadata": {},
   "outputs": [
    {
     "data": {
      "text/plain": [
       "510     99958.0\n",
       "2937     8466.0\n",
       "1427     3608.0\n",
       "597       530.0\n",
       "406       378.0\n",
       "Name: coins, dtype: float64"
      ]
     },
     "execution_count": 146,
     "metadata": {},
     "output_type": "execute_result"
    }
   ],
   "source": [
    "users.coins.sort_values(ascending=False).head(5)"
   ]
  },
  {
   "cell_type": "code",
   "execution_count": 147,
   "metadata": {},
   "outputs": [
    {
     "data": {
      "text/plain": [
       "1427    486330\n",
       "3629    129870\n",
       "992     123565\n",
       "406      95823\n",
       "1360     81796\n",
       "Name: total_revenue, dtype: int64"
      ]
     },
     "execution_count": 147,
     "metadata": {},
     "output_type": "execute_result"
    }
   ],
   "source": [
    "users.total_revenue.sort_values(ascending=False).head(5)"
   ]
  },
  {
   "cell_type": "markdown",
   "metadata": {},
   "source": [
    "Удалим пользователей с максимальными значениями переменных coins и total_revenue, т. к. они могут помешать анализу (при проведении АВ-тестов стоит снижать дисперсию, при этом удаление нескольких пользователей из выборки не помешает анализу, так как большую часть прибыли компания получает не от них). Удалим также пользователей с возрастом, нехарактерным для пользователей сайтов знакомств (age >= 70)."
   ]
  },
  {
   "cell_type": "code",
   "execution_count": 148,
   "metadata": {},
   "outputs": [
    {
     "name": "stdout",
     "output_type": "stream",
     "text": [
      "Удалено  0.4 % значений выборки\n"
     ]
    }
   ],
   "source": [
    "transactions = transactions.merge(users[{'uid', 'coins', 'age', 'total_revenue'}], on='uid', how='left')\n",
    "transactions = transactions[(transactions.age < 70) & (transactions.total_revenue < 100000) & \n",
    "              (transactions.coins <= 5000)].drop(['coins', 'age', 'total_revenue'], axis=1)\n",
    "users = users[(users.coins <= 5000) & (users.total_revenue < 100000) & (users.age < 70)]\n",
    "print('Удалено ', \n",
    "      round((1 - users.shape[0] / (users_test.shape[0] + users_test.shape[0] + users_test.shape[0])) * 100, 1), \n",
    "      '% значений выборки')"
   ]
  },
  {
   "cell_type": "markdown",
   "metadata": {},
   "source": [
    "### Визуализируем связи между переменными"
   ]
  },
  {
   "cell_type": "code",
   "execution_count": 149,
   "metadata": {
    "scrolled": false
   },
   "outputs": [
    {
     "data": {
      "image/png": "[encoded data removed]",
      "text/plain": [
       "<Figure size 1080x720 with 2 Axes>"
      ]
     },
     "metadata": {
      "needs_background": "light"
     },
     "output_type": "display_data"
    }
   ],
   "source": [
    "# удалив выбросы, рассмотрим корреляции между переменными, выраженные численно\n",
    "corr = users.corr()\n",
    "\n",
    "f, ax = plt.subplots(figsize=(15, 10))\n",
    "sns.heatmap(corr, annot=True, linewidths=1.5, fmt='.2f', ax=ax)\n",
    "plt.show()"
   ]
  },
  {
   "cell_type": "markdown",
   "metadata": {},
   "source": [
    "## Выводы\n",
    "\n",
    "1) тестовая и контрольные группы однотипны, примерно одинаковы по размеру и количеству пропущенных значений,\n",
    "\n",
    "2) распределения переменных в тестовой и контрольных группах качественно схожи, но для переменных coins и total_revenue могут отличаться количественно (точно мы этого не знаем, т.к. не проводили статистических тестов),\n",
    "\n",
    "3) незначительное количество выбросов и сомнительных значений были удалены и в дальнейшем анализе не участвуют,\n",
    "\n",
    "4) часть переменных между собой коррелируют, и это логически объяснимо: age и age_filter_start, uid и last_visit (last_visit - это день последнего визита с момента регистрации, он взаимосвязан с датой регистрации, так как новые пользователи провели в приложении не больше дней, чем длительность эксперимента, а uid назначается в порядке регистрации пользователей), gender и views_count (мужские аккаунты/профили получают меньше внимания), age_filter_start и age_filter_end (эти переменные связаны с возрастом самого пользователя), was_premium и is_premium, is_premium и visits (если пользователь купил премиум, то продукт ему интересен, и он будет чаще его использовать), visits и last_visit,\n",
    "\n",
    "5) total_revenue коррелирует с переменными is_premium, coins, visits,\n",
    "\n",
    "6) покупатели продуктов premium_trial и premium_no_trial наиболее \"перспективны\" для анализа: есть основания полагать, что в тестовой группе в среднем чаще покупают премиум."
   ]
  },
  {
   "cell_type": "markdown",
   "metadata": {},
   "source": [
    "## Проверим, имеет ли смысл добавлять новый способ оплаты для всех пользователей"
   ]
  },
  {
   "cell_type": "markdown",
   "metadata": {},
   "source": [
    "Был проведен эксперимент, в рамках которого для новых пользователей из нескольких стран была изменена стоимость премиум-подписки при покупке через две новые платежные системы. \n",
    "\n",
    "### Гипотеза: \n",
    "такое нововведение увеличит выручку компании. \n",
    "\n",
    "### Основная метрика: \n",
    "средняя выручка на одного пользователя. Так как нововведение никак не может повлиять на количество новых пользователей, общая выручка компании напрямую зависит от средней выручки на одного пользователя. Метрика вычисляется как отношение суммарной выручки total_revenue по всем пользователям к количеству пользователей.\n",
    "\n",
    "### \"Вторичные\" метрики (были рассмотрены в ходе предварительного анализа): \n",
    "конверсия (отношение количества платящих пользователей к общему количеству пользователей), \n",
    "\n",
    "ARPPU (отношение суммарной выручки к количеству пользователей, которые платят сервису)."
   ]
  },
  {
   "cell_type": "markdown",
   "metadata": {},
   "source": [
    "Проверим, изменилась ли средняя выручка в тестовой группе, так как эта метрика наилучшим образом отражает цель нашего бизнеса (прибыль). \n",
    "\n",
    "Для выявления отличий между группами пользователей будем, в основном, использовать критерий Стьюдента, при множественных сравнениях возможно применение поправки Тьюки. Это классический критерий для проверки гипотезы о равенстве средних значений генеральных совокупностей при независимых выборках (наш случай, ведь мы тестируем среднюю выручку, и поведение пользователя независимо от других пользователей). Альтернативы существуют (например, критерий Манна-Уитни, бутстрап) и имеют свои достоинства и недостатки. Так, критерий Манна-Уитни менее чувствителен к выбросам и отклонениям от нормального распределения, но зато \"не любит\" повторяющихся значений (а в нашей выборке много нулевых значений), бутстрап позволяет отдельно оценить разницу по квантилям, но он требователен к вычислительным мощностям. Наша выборка распределена не нормально, но применение критерия Стьюдента в этом случае допускается при однородности дисперсий, а выбросы уже удалены.\n",
    "\n",
    "Проверим равенство дисперсий тестовой и двух контрольных групп по отдельности, а также тестовой группы и объединения двух контрольных групп по критерию Левена с уровнем значимости 0.05, в качестве метрики среднего значения - медиана (рекомендуется для не нормально распределенных данных). Стоит ли доверять этому критерию при условии не нормально распределенных данных - в разных источниках информация разнится."
   ]
  },
  {
   "cell_type": "code",
   "execution_count": 150,
   "metadata": {},
   "outputs": [
    {
     "data": {
      "text/html": [
       "<div>\n",
       "<style scoped>\n",
       "    .dataframe tbody tr th:only-of-type {\n",
       "        vertical-align: middle;\n",
       "    }\n",
       "\n",
       "    .dataframe tbody tr th {\n",
       "        vertical-align: top;\n",
       "    }\n",
       "\n",
       "    .dataframe thead th {\n",
       "        text-align: right;\n",
       "    }\n",
       "</style>\n",
       "<table border=\"1\" class=\"dataframe\">\n",
       "  <thead>\n",
       "    <tr style=\"text-align: right;\">\n",
       "      <th></th>\n",
       "      <th>std</th>\n",
       "    </tr>\n",
       "    <tr>\n",
       "      <th>group</th>\n",
       "      <th></th>\n",
       "    </tr>\n",
       "  </thead>\n",
       "  <tbody>\n",
       "    <tr>\n",
       "      <th>control1</th>\n",
       "      <td>3072.677600</td>\n",
       "    </tr>\n",
       "    <tr>\n",
       "      <th>control2</th>\n",
       "      <td>2859.935308</td>\n",
       "    </tr>\n",
       "    <tr>\n",
       "      <th>test</th>\n",
       "      <td>3352.688350</td>\n",
       "    </tr>\n",
       "  </tbody>\n",
       "</table>\n",
       "</div>"
      ],
      "text/plain": [
       "                  std\n",
       "group                \n",
       "control1  3072.677600\n",
       "control2  2859.935308\n",
       "test      3352.688350"
      ]
     },
     "execution_count": 150,
     "metadata": {},
     "output_type": "execute_result"
    }
   ],
   "source": [
    "# среднее квадратическое отклонение по группам (показатель, характеризующий дисперсию, но при этом \n",
    "# имеющий более интуитивно понятный масштаб)\n",
    "users.groupby('group').agg({'total_revenue': 'std'}).rename(columns={'total_revenue': 'std'})"
   ]
  },
  {
   "cell_type": "markdown",
   "metadata": {},
   "source": [
    "На первый взгляд, у тестовой группы стандартное отклонение (а значит, и дисперсия) отличается от контрольных групп. А что говорит статистический критерий (Левена)? \n",
    "\n",
    "Если результирующее p-значение критерия Левена меньше некоторого уровня значимости (в данном случае 0.05), полученные различия в отклонениях выборки вряд ли имели место на основе случайной выборки из совокупности с равными отклонениями. "
   ]
  },
  {
   "cell_type": "code",
   "execution_count": 151,
   "metadata": {},
   "outputs": [
    {
     "name": "stdout",
     "output_type": "stream",
     "text": [
      "Сравниваем дисперсию  test и control1 : pvalue =  0.807 .  H0 не отвергается (нет разницы)\n",
      "Сравниваем дисперсию  test и control2 : pvalue =  0.807 .  H0 не отвергается (нет разницы)\n",
      "Сравниваем дисперсию  control1 и control2 : pvalue =  0.807 .  H0 не отвергается (нет разницы)\n",
      "Сравниваем дисперсию  test и united_control : pvalue =  0.995 .  H0 не отвергается (нет разницы)\n"
     ]
    }
   ],
   "source": [
    "# подготовим выборки для сравнения\n",
    "united_control_sample = users[users.group != 'test'].total_revenue\n",
    "control1_sample = users[users.group == 'control1'].total_revenue\n",
    "test_sample = users[users.group == 'test'].total_revenue\n",
    "control2_sample = users[users.group == 'control2'].total_revenue\n",
    "# массив пар для сравнения\n",
    "samples = [['test и control1', test_sample, control1_sample], \n",
    "           ['test и control2', test_sample, control2_sample], \n",
    "           ['control1 и control2', test_sample, control1_sample], \n",
    "           ['test и united_control', test_sample, united_control_sample]]\n",
    "\n",
    "# попарное сравнение дисперсий по критерию Левена\n",
    "for samples_to_compare in samples:\n",
    "    (s, p) = levene(samples_to_compare[1], samples_to_compare[2])\n",
    "    if p > 0.05: \n",
    "        result = \"H0 не отвергается (нет разницы)\"\n",
    "    else:\n",
    "        result = \"H0 отвергается (есть разница)\"\n",
    "    print(\"Сравниваем дисперсию \", samples_to_compare[0], \": pvalue = \", round(p, 3), \". \", result)"
   ]
  },
  {
   "cell_type": "markdown",
   "metadata": {},
   "source": [
    "Таким образом, нулевая гипотеза о равных дисперсиях отвергается, и делается вывод о том, что существует разница между дисперсиями в генеральной совокупности. Все проведенные сравнения не отвергают гипотезу о равенстве дисперсий соответствующих групп."
   ]
  },
  {
   "cell_type": "markdown",
   "metadata": {},
   "source": [
    "Имеет смысл проверить, насколько качественно были отобраны тестовая и контрольные выборки, то есть, отличаются ли друг от друга контрольные выборки по средней выручке. На самом деле, и по остальным переменным тоже, но отличие по остальным переменным было оценено визуально как достаточно небольшое, за исключением переменной coins, которая в данном анализе не очень интересна.\n",
    "\n",
    "То есть, необходимо сравнение средних значений выручки в группах control1 и control2.\n",
    "\n",
    "Также необходимо сравнить тестовую и контрольную группу. Если две тестовые группы статистически не отличаются, то не имеет значения, с какой из контрольных групп (или с их объединением) сравнивать тестовую. Проведем сравнение трех групп пользователей между собой, при проведении теста можно сделать поправку на множественные сравнения (критерий Тьюки).\n",
    "\n",
    "Проверим гипотезу Н0: средние во всех трех группах совпадают.\n",
    "Зададим уровень значимости 0.05."
   ]
  },
  {
   "cell_type": "code",
   "execution_count": 152,
   "metadata": {},
   "outputs": [
    {
     "name": "stdout",
     "output_type": "stream",
     "text": [
      "    Multiple Comparison of Means - Tukey HSD, FWER=0.05    \n",
      "===========================================================\n",
      " group1   group2  meandiff p-adj    lower    upper   reject\n",
      "-----------------------------------------------------------\n",
      "control1 control2 -33.3275 0.8725 -190.3699 123.7148  False\n",
      "control1     test -16.8813 0.9654 -173.5544 139.7918  False\n",
      "control2     test  16.4462 0.9674 -140.8771 173.7695  False\n",
      "-----------------------------------------------------------\n"
     ]
    }
   ],
   "source": [
    "print(pairwise_tukeyhsd(users.total_revenue, users.group))"
   ]
  },
  {
   "cell_type": "markdown",
   "metadata": {},
   "source": [
    "Результаты сравнения говорят о том, что: \n",
    "\n",
    "1) группы для сравнения отобраны корректно (контрольные группы не отличаются) и \n",
    "\n",
    "2) АВ-тест показывает, что для групп test и control1, test и control2 пользователей среднее значение выручки статистически значимо не отличается.\n",
    "\n",
    "В дальнейшем будем использовать для сравнений тестовой и контрольной групп 1ю контрольную группу, так как лишние сравнения увеличивают вероятность ошибки 2го рода. Это решение эквивалентно использованию 2й контрольной группы или объединенной из двух контрольных групп."
   ]
  },
  {
   "cell_type": "markdown",
   "metadata": {},
   "source": [
    "### Вывод: нововведение в целом не прижилось. Средняя выручка на пользователия статистически значимо не изменилась, зато снизилась конверсия (в тестовой группе по сравнению с контрольными)."
   ]
  },
  {
   "cell_type": "markdown",
   "metadata": {},
   "source": [
    "## Имеет ли смысл нововведение для определенных групп пользователей?"
   ]
  },
  {
   "cell_type": "markdown",
   "metadata": {},
   "source": [
    "Проверим, имеет ли смысл вообще искать отдельные группы пользователей, или распределения выручки одинаковы в обеих группах."
   ]
  },
  {
   "cell_type": "markdown",
   "metadata": {},
   "source": [
    "### Бутстрапом проверим каждый дециль распределения выручки, исключив неплатящих пользователей"
   ]
  },
  {
   "cell_type": "code",
   "execution_count": 153,
   "metadata": {},
   "outputs": [
    {
     "name": "stdout",
     "output_type": "stream",
     "text": [
      "Значение 10% квантиля изменилось на: 195.00\n",
      "95.0% доверительный интервал: (-1651.00, 1749.93)\n",
      "Отличия статистически значимые: False\n",
      "\n",
      "Значение 20% квантиля изменилось на: 1570.40\n",
      "95.0% доверительный интервал: (-663.26, 4043.39)\n",
      "Отличия статистически значимые: False\n",
      "\n",
      "Значение 30% квантиля изменилось на: 2802.80\n",
      "95.0% доверительный интервал: (1321.71, 4396.79)\n",
      "Отличия статистически значимые: True\n",
      "\n",
      "Значение 40% квантиля изменилось на: 3684.20\n",
      "95.0% доверительный интервал: (306.80, 6201.00)\n",
      "Отличия статистически значимые: True\n",
      "\n",
      "Значение 50% квантиля изменилось на: 3237.00\n",
      "95.0% доверительный интервал: (2327.00, 3640.00)\n",
      "Отличия статистически значимые: True\n",
      "\n",
      "Значение 60% квантиля изменилось на: 2264.60\n",
      "95.0% доверительный интервал: (169.00, 3364.66)\n",
      "Отличия статистически значимые: True\n",
      "\n",
      "Значение 70% квантиля изменилось на: 1367.60\n",
      "95.0% доверительный интервал: (111.80, 4004.00)\n",
      "Отличия статистически значимые: True\n",
      "\n",
      "Значение 80% квантиля изменилось на: 3234.40\n",
      "95.0% доверительный интервал: (1728.87, 6578.52)\n",
      "Отличия статистически значимые: True\n",
      "\n",
      "Значение 90% квантиля изменилось на: 6214.00\n",
      "95.0% доверительный интервал: (-595.47, 12651.99)\n",
      "Отличия статистически значимые: False\n",
      "\n"
     ]
    }
   ],
   "source": [
    "def get_percentile_ci(bootstrap_stats, pe, alpha):\n",
    "    # Строит перцентильный доверительный интервал\n",
    "    left, right = np.quantile(bootstrap_stats, [alpha / 2, 1 - alpha / 2])\n",
    "    return left, right\n",
    "\n",
    "\n",
    "B = 2000\n",
    "alpha = 0.05\n",
    "\n",
    "values_a = users[(users.group == 'control1') & (users.total_revenue > 0)].total_revenue\n",
    "values_b = users[(users.group == 'test') & (users.total_revenue > 0)].total_revenue\n",
    "\n",
    "quantiles = [i * 0.1 for i in range(1, 10)]\n",
    "\n",
    "for q in quantiles:\n",
    "    pe = np.quantile(values_b, q) - np.quantile(values_a, q)\n",
    "    bootstrap_values_a = np.random.choice(values_a, (B, values_a.size), True)\n",
    "    bootstrap_metrics_a = np.quantile(bootstrap_values_a, q, axis=1)\n",
    "    bootstrap_values_b = np.random.choice(values_b, (B, values_b.size), True)\n",
    "    bootstrap_metrics_b = np.quantile(bootstrap_values_b, q, axis=1)\n",
    "    bootstrap_stats = bootstrap_metrics_b - bootstrap_metrics_a\n",
    "    ci = get_percentile_ci(bootstrap_stats, pe, alpha)\n",
    "    has_effect = not (ci[0] < 0 < ci[1])\n",
    "\n",
    "    print(f'Значение {int(q * 100)}% квантиля изменилось на: {pe:0.2f}')\n",
    "    print(f'{((1 - alpha) * 100)}% доверительный интервал: ({ci[0]:0.2f}, {ci[1]:0.2f})')\n",
    "    print(f'Отличия статистически значимые: {has_effect}')\n",
    "    print()"
   ]
  },
  {
   "cell_type": "markdown",
   "metadata": {},
   "source": [
    "Вывод: не во всех сегментах значение выручки не изменилось. Можно поискать группы пользователей, для которых есть различия.\n",
    "\n",
    "Например:\n",
    "\n",
    "1) по странам. У этих групп пользователей отличаются как благосостояние, так и образ жизни, и отношение к знакомствам,\n",
    "\n",
    "2) по привлекательности. Возможно, уровень привлекательности влияет на отношение к онлайн знакомствам. Высокий/низкий уровень привлекательности может привести к желанию использовать больше возможностей приложения,\n",
    "\n",
    "3) частота пользования приложением. Высокая частота может означать большую заинтересованность (частота рассчитывается как количество визитов, так как если принять за единицу времени длительность эксперимента*, то количество визитов в единицу времени и будет частотой),\n",
    "\n",
    "* Длительность эксперимента в явном виде в датасете не приведена, но я при исследовании полагаю, что все приведенные данные относятся ко времени эксперимента, и что в датасете присутствуют все данные, относящиеся к эксперименту."
   ]
  },
  {
   "cell_type": "markdown",
   "metadata": {},
   "source": [
    "### 1) По странам. Для большинства стран (не вошли страны, из которых пришло мало пользователей: менее 0.5%) проверяется гипотеза Н0  о том, что средняя выручка у пользователей из этой страны не различается для тестовой и 1-й контрольной групп. Уровень значимости 0.05."
   ]
  },
  {
   "cell_type": "code",
   "execution_count": 154,
   "metadata": {
    "scrolled": false
   },
   "outputs": [
    {
     "name": "stdout",
     "output_type": "stream",
     "text": [
      "United Arab Emirates : разница средних (тест-контроль)= 32.48 , p-value= 0.883 ,  различий нет\n",
      "Chile : разница средних (тест-контроль)= -82.82 , p-value= 0.662 ,  различий нет\n",
      "Argentina : разница средних (тест-контроль)= 102.84 , p-value= 0.712 ,  различий нет\n",
      "Italy : разница средних (тест-контроль)= -92.36 , p-value= 0.65 ,  различий нет\n",
      "Other : разница средних (тест-контроль)= -1212.94 , p-value= 0.218 ,  различий нет\n",
      "United Kingdom (Great Britain) : разница средних (тест-контроль)= -863.76 , p-value= 0.156 ,  различий нет\n",
      "France : разница средних (тест-контроль)= 79.83 , p-value= 0.714 ,  различий нет\n",
      "United States of America : разница средних (тест-контроль)= 12.34 , p-value= 0.923 ,  различий нет\n",
      "Portugal : разница средних (тест-контроль)= -194.35 , p-value= 0.217 ,  различий нет\n",
      "Canada : разница средних (тест-контроль)= -220.3 , p-value= 0.543 ,  различий нет\n",
      "Australia : разница средних (тест-контроль)= -162.9 , p-value= 0.629 ,  различий нет\n",
      "Germany : разница средних (тест-контроль)= 334.35 , p-value= 0.174 ,  различий нет\n",
      "Switzerland : разница средних (тест-контроль)= 3.22 , p-value= 0.995 ,  различий нет\n",
      "Spain : разница средних (тест-контроль)= 228.88 , p-value= 0.208 ,  различий нет\n",
      "Israel : разница средних (тест-контроль)= -191.73 , p-value= 0.706 ,  различий нет\n",
      "Belgium : разница средних (тест-контроль)= 258.87 , p-value= 0.52 ,  различий нет\n"
     ]
    }
   ],
   "source": [
    "# Для каждой из стран проверяем гипотезу Н0 о равенстве средних значений выручки\n",
    "for countryname in set(users.top_country.values):\n",
    "    p = stats.ttest_ind(users[(users.group == 'test') & (users.top_country == countryname)].total_revenue, \n",
    "        users[(users.group == 'control1') & (users.top_country == countryname)].total_revenue)[1]\n",
    "    s = users[(users.group == 'test') & (users.top_country == countryname)].total_revenue.mean() - \\\n",
    "        users[(users.group == 'control1') & (users.top_country == countryname)].total_revenue.mean()\n",
    "    if p >= 0.05:\n",
    "        result = 'различий нет'\n",
    "    else:\n",
    "        result = 'различия есть'\n",
    "    print(countryname, ': разница средних (тест-контроль)=', round(s, 2), ', p-value=', round(p, 3), ', ', result)"
   ]
  },
  {
   "cell_type": "markdown",
   "metadata": {},
   "source": [
    "Во всех странах не обнаружено значимых различий между тестовой и контрольной группами.\n",
    "\n",
    "Однако в различных странах могут отличаться паттерны поведения (а значит, и ценности) у различных половозрастных групп. Проверим гипотезу Н0 на группах мужчин разных возрастов в разных странах (проверяем именно мужчин, так как мужчины традиционно проявляют больше заинтересованности в услугах дейтингового приложения, что видно и по имеющемуся датасету)."
   ]
  },
  {
   "cell_type": "code",
   "execution_count": 155,
   "metadata": {},
   "outputs": [
    {
     "name": "stdout",
     "output_type": "stream",
     "text": [
      "United Arab Emirates : разница средних (тест-контроль)= nan , p-value= nan ,  мало наблюдений\n",
      "Chile : разница средних (тест-контроль)= 0.0 , p-value= nan ,  мало наблюдений\n",
      "Argentina : разница средних (тест-контроль)= 0.0 , p-value= nan ,  мало наблюдений\n",
      "Italy : разница средних (тест-контроль)= 368.83 , p-value= nan ,  мало наблюдений\n",
      "Other : разница средних (тест-контроль)= nan , p-value= nan ,  мало наблюдений\n",
      "United Kingdom (Great Britain) : разница средних (тест-контроль)= 0.0 , p-value= nan ,  мало наблюдений\n",
      "France : разница средних (тест-контроль)= 0.0 , p-value= nan ,  мало наблюдений\n",
      "United States of America : разница средних (тест-контроль)= -340.68 , p-value= 0.407 ,  различий нет\n",
      "Portugal : разница средних (тест-контроль)= 0.0 , p-value= nan ,  мало наблюдений\n",
      "Canada : разница средних (тест-контроль)= 805.83 , p-value= nan ,  мало наблюдений\n",
      "Australia : разница средних (тест-контроль)= -4467.67 , p-value= nan ,  мало наблюдений\n",
      "Germany : разница средних (тест-контроль)= 513.92 , p-value= nan ,  мало наблюдений\n",
      "Switzerland : разница средних (тест-контроль)= 0.0 , p-value= nan ,  мало наблюдений\n",
      "Spain : разница средних (тест-контроль)= -572.59 , p-value= nan ,  мало наблюдений\n",
      "Israel : разница средних (тест-контроль)= 2253.33 , p-value= nan ,  мало наблюдений\n",
      "Belgium : разница средних (тест-контроль)= -1053.87 , p-value= nan ,  мало наблюдений\n"
     ]
    }
   ],
   "source": [
    "# Для каждой из стран проверяем гипотезу Н0 о равенстве средних значений выручки, но только для пожилых мужчин\n",
    "for countryname in set(users.top_country.values):\n",
    "    sample1 = users[(users.group == 'test') & (users.top_country == countryname) & (users.gender == 1) & \n",
    "             (users.age >= 50)].total_revenue\n",
    "    sample2 = users[(users.group == 'control1') & (users.top_country == countryname) & (users.gender == 1) & \n",
    "             (users.age >= 50)].total_revenue\n",
    "    s = sample1.mean() - sample2.mean()\n",
    "    if (sample1.size < 30) | (sample2.size < 30):\n",
    "        p = np.nan\n",
    "    else:\n",
    "        p = stats.ttest_ind(sample1, sample2)[1]\n",
    "    if pd.isna(p):\n",
    "        result = 'мало наблюдений'\n",
    "    elif p >= 0.05:\n",
    "        result = 'различий нет'\n",
    "    else:\n",
    "        result = 'различия есть'\n",
    "    print(countryname, ': разница средних (тест-контроль)=', round(s, 2), ', p-value=', round(p, 3), ', ', result)"
   ]
  },
  {
   "cell_type": "code",
   "execution_count": 156,
   "metadata": {},
   "outputs": [
    {
     "name": "stdout",
     "output_type": "stream",
     "text": [
      "United Arab Emirates : разница средних (тест-контроль)= 315.43 , p-value= 0.317 ,  различий нет\n",
      "Chile : разница средних (тест-контроль)= -3.12 , p-value= 0.991 ,  различий нет\n",
      "Argentina : разница средних (тест-контроль)= 728.22 , p-value= 0.19 ,  различий нет\n",
      "Italy : разница средних (тест-контроль)= -274.86 , p-value= 0.298 ,  различий нет\n",
      "Other : разница средних (тест-контроль)= 111.05 , p-value= nan ,  мало наблюдений\n",
      "United Kingdom (Great Britain) : разница средних (тест-контроль)= -979.92 , p-value= 0.351 ,  различий нет\n",
      "France : разница средних (тест-контроль)= 65.4 , p-value= 0.821 ,  различий нет\n",
      "United States of America : разница средних (тест-контроль)= 380.24 , p-value= 0.031 ,  различия есть\n",
      "Portugal : разница средних (тест-контроль)= -103.28 , p-value= 0.348 ,  различий нет\n",
      "Canada : разница средних (тест-контроль)= -354.72 , p-value= 0.569 ,  различий нет\n",
      "Australia : разница средних (тест-контроль)= -199.33 , p-value= nan ,  мало наблюдений\n",
      "Germany : разница средних (тест-контроль)= 172.57 , p-value= 0.352 ,  различий нет\n",
      "Switzerland : разница средних (тест-контроль)= -42.85 , p-value= nan ,  мало наблюдений\n",
      "Spain : разница средних (тест-контроль)= 238.04 , p-value= 0.362 ,  различий нет\n",
      "Israel : разница средних (тест-контроль)= -699.81 , p-value= 0.327 ,  различий нет\n",
      "Belgium : разница средних (тест-контроль)= 774.34 , p-value= 0.14 ,  различий нет\n"
     ]
    }
   ],
   "source": [
    "# Для каждой из стран проверяем гипотезу Н0 о равенстве средних значений выручки, но только для мужчин средних лет\n",
    "for countryname in set(users.top_country.values):\n",
    "    sample1 = users[(users.group == 'test') & (users.top_country == countryname) & (users.gender == 1) & \n",
    "              (users.age >= 30) & (users.age < 50)].total_revenue\n",
    "    sample2 = users[(users.group == 'control1') & (users.top_country == countryname) & (users.gender == 1) & \n",
    "              (users.age >= 30) & (users.age < 50)].total_revenue\n",
    "    s = sample1.mean() - sample2.mean()\n",
    "    if (sample1.size < 30) | (sample2.size < 30):\n",
    "        p = np.nan\n",
    "    else:\n",
    "        p = stats.ttest_ind(sample1, sample2)[1]\n",
    "    if pd.isna(p):\n",
    "        result = 'мало наблюдений'\n",
    "    elif p >= 0.05:\n",
    "        result = 'различий нет'\n",
    "    else:\n",
    "        result = 'различия есть'\n",
    "    print(countryname, ': разница средних (тест-контроль)=', round(s, 2), ', p-value=', round(p, 3), ', ', result)"
   ]
  },
  {
   "cell_type": "code",
   "execution_count": 157,
   "metadata": {},
   "outputs": [
    {
     "name": "stdout",
     "output_type": "stream",
     "text": [
      "Повышение конверсии в указанной группе в 1.9  раза в тестовой группе по отношению к контрольной\n"
     ]
    },
    {
     "data": {
      "text/html": [
       "<div>\n",
       "<style scoped>\n",
       "    .dataframe tbody tr th:only-of-type {\n",
       "        vertical-align: middle;\n",
       "    }\n",
       "\n",
       "    .dataframe tbody tr th {\n",
       "        vertical-align: top;\n",
       "    }\n",
       "\n",
       "    .dataframe thead th {\n",
       "        text-align: right;\n",
       "    }\n",
       "</style>\n",
       "<table border=\"1\" class=\"dataframe\">\n",
       "  <thead>\n",
       "    <tr style=\"text-align: right;\">\n",
       "      <th></th>\n",
       "      <th>uid</th>\n",
       "    </tr>\n",
       "    <tr>\n",
       "      <th>group</th>\n",
       "      <th></th>\n",
       "    </tr>\n",
       "  </thead>\n",
       "  <tbody>\n",
       "    <tr>\n",
       "      <th>control1</th>\n",
       "      <td>0.030142</td>\n",
       "    </tr>\n",
       "    <tr>\n",
       "      <th>control2</th>\n",
       "      <td>0.038321</td>\n",
       "    </tr>\n",
       "    <tr>\n",
       "      <th>test</th>\n",
       "      <td>0.057252</td>\n",
       "    </tr>\n",
       "  </tbody>\n",
       "</table>\n",
       "</div>"
      ],
      "text/plain": [
       "               uid\n",
       "group             \n",
       "control1  0.030142\n",
       "control2  0.038321\n",
       "test      0.057252"
      ]
     },
     "execution_count": 157,
     "metadata": {},
     "output_type": "execute_result"
    }
   ],
   "source": [
    "# обнаружена одна группа пользователей со значимым повышением выручки на одного пользователя. А что с конверсией?\n",
    "conv_USA_male_mid = \\\n",
    "    users[(users.total_revenue > 0) & (users.age >= 30) & (users.age < 50) & (users.gender == 1) & \n",
    "          (users.country == 'United States of America')].groupby('group').agg({'uid': 'count'}) / \\\n",
    "    users[(users.age >= 30) & (users.age < 50) & (users.gender == 1) & \n",
    "          (users.country == 'United States of America')].groupby('group').agg({'uid': 'count'})\n",
    "\n",
    "print('Повышение конверсии в указанной группе в', \n",
    "      round(conv_USA_male_mid.uid['test'] / conv_USA_male_mid.uid['control1'], 1), \n",
    "      ' раза в тестовой группе по отношению к контрольной')\n",
    "conv_USA_male_mid"
   ]
  },
  {
   "cell_type": "code",
   "execution_count": 158,
   "metadata": {},
   "outputs": [
    {
     "name": "stdout",
     "output_type": "stream",
     "text": [
      "Повышение ARPU в 2.08 раза\n"
     ]
    },
    {
     "data": {
      "text/html": [
       "<div>\n",
       "<style scoped>\n",
       "    .dataframe tbody tr th:only-of-type {\n",
       "        vertical-align: middle;\n",
       "    }\n",
       "\n",
       "    .dataframe tbody tr th {\n",
       "        vertical-align: top;\n",
       "    }\n",
       "\n",
       "    .dataframe thead th {\n",
       "        text-align: right;\n",
       "    }\n",
       "</style>\n",
       "<table border=\"1\" class=\"dataframe\">\n",
       "  <thead>\n",
       "    <tr style=\"text-align: right;\">\n",
       "      <th></th>\n",
       "      <th>total_revenue</th>\n",
       "    </tr>\n",
       "    <tr>\n",
       "      <th>group</th>\n",
       "      <th></th>\n",
       "    </tr>\n",
       "  </thead>\n",
       "  <tbody>\n",
       "    <tr>\n",
       "      <th>control1</th>\n",
       "      <td>351.829787</td>\n",
       "    </tr>\n",
       "    <tr>\n",
       "      <th>control2</th>\n",
       "      <td>387.888686</td>\n",
       "    </tr>\n",
       "    <tr>\n",
       "      <th>test</th>\n",
       "      <td>732.068702</td>\n",
       "    </tr>\n",
       "  </tbody>\n",
       "</table>\n",
       "</div>"
      ],
      "text/plain": [
       "          total_revenue\n",
       "group                  \n",
       "control1     351.829787\n",
       "control2     387.888686\n",
       "test         732.068702"
      ]
     },
     "execution_count": 158,
     "metadata": {},
     "output_type": "execute_result"
    }
   ],
   "source": [
    "revenue_USA_male_mid = \\\n",
    "    users[(users.age >= 30) & (users.age < 50) & (users.gender == 1) & \n",
    "          (users.country == 'United States of America')].groupby('group').agg({'total_revenue': 'mean'})\n",
    "\n",
    "print('Повышение ARPU в', \n",
    "      round(revenue_USA_male_mid.total_revenue['test'] / revenue_USA_male_mid.total_revenue['control1'], 2), 'раза')\n",
    "revenue_USA_male_mid"
   ]
  },
  {
   "cell_type": "code",
   "execution_count": 159,
   "metadata": {},
   "outputs": [
    {
     "name": "stdout",
     "output_type": "stream",
     "text": [
      "United Arab Emirates : avg(test)-avg(control)= -55.5 , p-value= 0.856 ,  различий нет\n",
      "Chile : avg(test)-avg(control)= -150.64 , p-value= 0.606 ,  различий нет\n",
      "Argentina : avg(test)-avg(control)= -472.5 , p-value= 0.019 ,  различия есть\n",
      "Italy : avg(test)-avg(control)= -1.22 , p-value= 0.997 ,  различий нет\n",
      "Other : avg(test)-avg(control)= -2204.07 , p-value= 0.259 ,  различий нет\n",
      "United Kingdom (Great Britain) : avg(test)-avg(control)= -675.01 , p-value= 0.416 ,  различий нет\n",
      "France : avg(test)-avg(control)= 137.74 , p-value= 0.723 ,  различий нет\n",
      "United States of America : avg(test)-avg(control)= -221.5 , p-value= 0.303 ,  различий нет\n",
      "Portugal : avg(test)-avg(control)= -329.95 , p-value= 0.326 ,  различий нет\n",
      "Canada : avg(test)-avg(control)= -350.02 , p-value= 0.246 ,  различий нет\n",
      "Australia : avg(test)-avg(control)= 373.01 , p-value= nan ,  мало наблюдений\n",
      "Germany : avg(test)-avg(control)= 576.78 , p-value= 0.33 ,  различий нет\n",
      "Switzerland : avg(test)-avg(control)= 124.88 , p-value= nan ,  мало наблюдений\n",
      "Spain : avg(test)-avg(control)= 304.63 , p-value= 0.263 ,  различий нет\n",
      "Israel : avg(test)-avg(control)= 85.34 , p-value= nan ,  мало наблюдений\n",
      "Belgium : avg(test)-avg(control)= -307.65 , p-value= nan ,  мало наблюдений\n"
     ]
    }
   ],
   "source": [
    "# Для каждой из стран проверяем гипотезу Н0 о равенстве средних значений выручки, но только для молодых мужчин\n",
    "for countryname in set(users.top_country.values):\n",
    "    sample1 = users[(users.group == 'test') & (users.top_country == countryname) & (users.gender == 1) & \n",
    "             (users.age < 30)].total_revenue\n",
    "    sample2 = users[(users.group == 'control1') & (users.top_country == countryname) & (users.gender == 1) & \n",
    "             (users.age < 30)].total_revenue\n",
    "    s = sample1.mean() - sample2.mean()\n",
    "    if (sample1.size < 30) | (sample2.size < 30):\n",
    "        p = np.nan\n",
    "    else:\n",
    "        p = stats.ttest_ind(sample1, sample2)[1]\n",
    "    if pd.isna(p):\n",
    "        result = 'мало наблюдений'\n",
    "    elif p >= 0.05:\n",
    "        result = 'различий нет'\n",
    "    else:\n",
    "        result = 'различия есть'\n",
    "    print(countryname, ': avg(test)-avg(control)=', round(s, 2), ', p-value=', round(p, 3), ', ', result)"
   ]
  },
  {
   "cell_type": "code",
   "execution_count": 160,
   "metadata": {},
   "outputs": [
    {
     "name": "stdout",
     "output_type": "stream",
     "text": [
      "Повышение ARPU в 0.0 раза\n"
     ]
    },
    {
     "data": {
      "text/html": [
       "<div>\n",
       "<style scoped>\n",
       "    .dataframe tbody tr th:only-of-type {\n",
       "        vertical-align: middle;\n",
       "    }\n",
       "\n",
       "    .dataframe tbody tr th {\n",
       "        vertical-align: top;\n",
       "    }\n",
       "\n",
       "    .dataframe thead th {\n",
       "        text-align: right;\n",
       "    }\n",
       "</style>\n",
       "<table border=\"1\" class=\"dataframe\">\n",
       "  <thead>\n",
       "    <tr style=\"text-align: right;\">\n",
       "      <th></th>\n",
       "      <th>total_revenue</th>\n",
       "    </tr>\n",
       "    <tr>\n",
       "      <th>group</th>\n",
       "      <th></th>\n",
       "    </tr>\n",
       "  </thead>\n",
       "  <tbody>\n",
       "    <tr>\n",
       "      <th>control1</th>\n",
       "      <td>472.500000</td>\n",
       "    </tr>\n",
       "    <tr>\n",
       "      <th>control2</th>\n",
       "      <td>346.690608</td>\n",
       "    </tr>\n",
       "    <tr>\n",
       "      <th>test</th>\n",
       "      <td>0.000000</td>\n",
       "    </tr>\n",
       "  </tbody>\n",
       "</table>\n",
       "</div>"
      ],
      "text/plain": [
       "          total_revenue\n",
       "group                  \n",
       "control1     472.500000\n",
       "control2     346.690608\n",
       "test           0.000000"
      ]
     },
     "execution_count": 160,
     "metadata": {},
     "output_type": "execute_result"
    }
   ],
   "source": [
    "revenue_Argentina_male_young = \\\n",
    "    users[(users.age < 30) & (users.gender == 1) & (users.country == 'Argentina')].\\\n",
    "    groupby('group').agg({'total_revenue': 'mean'})\n",
    "\n",
    "print('Повышение ARPU в', \n",
    "      revenue_Argentina_male_young.total_revenue['test'] / \n",
    "      revenue_Argentina_male_young.total_revenue['control1'], 'раза')\n",
    "revenue_Argentina_male_young"
   ]
  },
  {
   "cell_type": "markdown",
   "metadata": {},
   "source": [
    "Обнаружены две группы пользователей, для которых выручка с пользователя значимо отличается в тестовой группе по сравнению с контрольной:\n",
    "\n",
    "1) для мужчин среднего возраста из США выручка выросла;\n",
    "\n",
    "2) для молодых мужчин из Аргентины выручка снизилась до нулевого значения. Это может быть ошибкой первого рода и на самом деле нет значимых различий между контрольной и тестовой группами. В любом случае, есть снижение выручки или нет значимых различий - нововведение этой группе пользователей предлагать не надо. \n",
    "\n",
    "Проверка конверсии особенно важна в первом случае, так как мы при проведении теста не делали поправку на множественное тестирование."
   ]
  },
  {
   "cell_type": "markdown",
   "metadata": {},
   "source": [
    "### 2) переменная attraction_coeff. Проверяется гипотеза Н0 о том, что средняя выручка не отличается для тестовой и 1-й контрольной групп у пользователей соответствующей группы по привлекательности. Уровень значимости 0.05"
   ]
  },
  {
   "cell_type": "code",
   "execution_count": 161,
   "metadata": {},
   "outputs": [
    {
     "data": {
      "text/plain": [
       "0.25      0.0\n",
       "0.50    250.0\n",
       "0.75    529.0\n",
       "Name: attraction_coeff, dtype: float64"
      ]
     },
     "execution_count": 161,
     "metadata": {},
     "output_type": "execute_result"
    }
   ],
   "source": [
    "users.attraction_coeff.quantile([0.25, 0.5, 0.75])"
   ]
  },
  {
   "cell_type": "code",
   "execution_count": 162,
   "metadata": {},
   "outputs": [
    {
     "name": "stdout",
     "output_type": "stream",
     "text": [
      "0 attraction , p-value= 0.181 ,  различий нет , conversion_difference = -0.0092\n",
      "1 quartile attraction , p-value= 0.78 ,  различий нет , conversion_difference = -0.0114\n",
      "2 quartile attraction , p-value= 0.668 ,  различий нет , conversion_difference = -0.0238\n",
      "3 quartile attraction , p-value= 0.657 ,  различий нет , conversion_difference = 0.0023\n"
     ]
    }
   ],
   "source": [
    "# группы для сравнения\n",
    "attraction_sets = [['0 attraction', \n",
    "     users[(users.attraction_coeff == 0) & (users.group == 'test')], \n",
    "     users[(users.attraction_coeff == 0) & (users.group == 'control1')]], \n",
    "    ['1 quartile attraction', \n",
    "     users[(users.attraction_coeff > 0) & (users.attraction_coeff < 250) & (users.group == 'test')], \n",
    "     users[(users.attraction_coeff > 0) & (users.attraction_coeff < 250) & (users.group == 'control1')]], \n",
    "    ['2 quartile attraction', \n",
    "     users[(users.attraction_coeff >= 250) & (users.attraction_coeff < 529) & (users.group == 'test')], \n",
    "     users[(users.attraction_coeff >= 250) & (users.attraction_coeff < 529) & (users.group == 'control1')]], \n",
    "    ['3 quartile attraction', \n",
    "     users[(users.attraction_coeff >= 529) & (users.group == 'test')], \n",
    "     users[(users.attraction_coeff >= 529) & (users.group == 'control1')]]]\n",
    "\n",
    "# сравнение\n",
    "for attraction in attraction_sets:\n",
    "    p = stats.ttest_ind(attraction[1].total_revenue, attraction[2].total_revenue)[1]\n",
    "    conv_test = attraction[1][attraction[1].total_revenue > 0].shape[0] / attraction[1].shape[0]\n",
    "    conv_control = attraction[2][attraction[2].total_revenue > 0].shape[0] / attraction[2].shape[0]\n",
    "    if p >= 0.05:\n",
    "        result = 'различий нет'\n",
    "    else:\n",
    "        result = 'различия есть'\n",
    "    print(attraction[0], ', p-value=', round(p, 3), ', ', result, ', conversion_difference =', \n",
    "          round(conv_test - conv_control, 4))"
   ]
  },
  {
   "cell_type": "markdown",
   "metadata": {},
   "source": [
    "Вывод: в группах по уровню привлекательности средняя выручка не изменилась, а конверсия снизилась*. Значит, не стоит распространять нововведение среди пользователей, сгруппированных по этому признаку.\n",
    "\n",
    "* Утверждение о том, что конверсия снизилась, не выглядит здесь достаточно обоснованным, т.к. это снижение может быть статистически незначимо. Тем не менее, проверять его излишне: это имело бы смысл, если бы конверсия выросла, а предполагать это нет никаких оснований."
   ]
  },
  {
   "cell_type": "markdown",
   "metadata": {},
   "source": [
    "### 3) переменная visits. Проверяется гипотеза Н0 о том, что средняя выручка не отличается для тестовой и 1-й контрольной групп у пользователей соответствующей группы по частоте посещения приложения. Уровень значимости 0.05"
   ]
  },
  {
   "cell_type": "code",
   "execution_count": 163,
   "metadata": {},
   "outputs": [
    {
     "data": {
      "text/plain": [
       "0.25    0.0\n",
       "0.50    2.0\n",
       "0.75    7.0\n",
       "Name: visits, dtype: float64"
      ]
     },
     "execution_count": 163,
     "metadata": {},
     "output_type": "execute_result"
    }
   ],
   "source": [
    "users.visits.quantile([0.25, 0.5, 0.75])"
   ]
  },
  {
   "cell_type": "code",
   "execution_count": 164,
   "metadata": {},
   "outputs": [
    {
     "name": "stdout",
     "output_type": "stream",
     "text": [
      "0 visits , p-value= 0.256 ,  различий нет , conversion difference= 0.0014\n",
      "1 quartile visits , p-value= 0.382 ,  различий нет , conversion difference= -0.0074\n",
      "2 quartile visits , p-value= 0.625 ,  различий нет , conversion difference= -0.0163\n",
      "3 quartile visits , p-value= 0.987 ,  различий нет , conversion difference= -0.0241\n"
     ]
    }
   ],
   "source": [
    "# группы для сравнения\n",
    "visits_sets = [['0 visits', \n",
    "                users[(users.visits == 0) & (users.group == 'test')], \n",
    "                users[(users.visits == 0) & (users.group == 'control1')]], \n",
    "               ['1 quartile visits', \n",
    "                users[(users.visits > 0) & (users.visits <= 2) & (users.group == 'test')], \n",
    "                users[(users.visits > 0) & (users.visits <= 2) & (users.group == 'control1')]], \n",
    "               ['2 quartile visits', \n",
    "                users[(users.visits > 2) & (users.visits <= 7) & (users.group == 'test')], \n",
    "                users[(users.visits > 2) & (users.visits <= 7) & (users.group == 'control1')]], \n",
    "               ['3 quartile visits', \n",
    "                users[(users.visits > 7) & (users.group == 'test')], \n",
    "                users[(users.visits > 7) & (users.group == 'control1')]]]\n",
    "\n",
    "# сравнение\n",
    "for visits in visits_sets:\n",
    "    conv_test = visits[1][visits[1].total_revenue > 0].shape[0] / visits[1].shape[0]\n",
    "    conv_control = visits[2][visits[2].total_revenue > 0].shape[0] / visits[2].shape[0]\n",
    "    p = stats.ttest_ind(visits[1].total_revenue, visits[2].total_revenue)[1]\n",
    "    if p >= 0.05:\n",
    "        result = 'различий нет'\n",
    "    else:\n",
    "        result = 'различия есть'\n",
    "    print(visits[0], ', p-value=', round(p, 3), ', ', result, ', conversion difference=', \n",
    "          round(conv_test - conv_control, 4))"
   ]
  },
  {
   "cell_type": "markdown",
   "metadata": {},
   "source": [
    "Вывод: в группах по количеству визитов средняя выручка не изменилась, а конверсия снизилась или осталась на том же уровне*. Значит, не стоит распространять нововведение среди пользователей, сгруппированных по этому признаку.\n",
    "\n",
    "* Утверждение о том, что конверсия снизилась, не выглядит здесь достаточно обоснованным, т.к. это снижение может быть статистически незначимо. На мой взгляд, это тот случай, когда соотношение величин *можно* определять \"визуально\"."
   ]
  },
  {
   "cell_type": "markdown",
   "metadata": {},
   "source": [
    "## Выводы\n",
    "\n",
    "Проведен эксперимент с использованием новой платежной системы. Новый метод оплаты предлагался новым пользователям из нескольких стран, покупающим премиум-подписку. Цель нововведения - увеличение выручки (возможно, нововведение сделает более привлекательной мысль о покупке подписки). \n",
    "\n",
    "Данные зашумлены (лучше было бы не включать в анализ пользователей из стран, в которых новые платежные системы не предлагались), но, тем не менее, подобраны корректно: выбросов немного, распределения величин в целом схожие, контрольные группы не отличаются, в данных есть логика, соответствующая предметной области. Однако для наиболее качественного анализа в датасете не хватает информации о платежных системах, через которые проходил каждый платеж.\n",
    "\n",
    "Установлено, что в результате распространения нововведения на всех пользователей прибыль не должна увеличиться: хотя средняя выручка с платящего пользователя и возросла на 17% в тестовой группе, но конверсия снизилась на 1 процентный пункт (до 40 % по сравнению с группой пользователей, которым нововведение не предлагалось), в результате чего средняя выручка с пользователя (рассчитанная по всем пользователям) статистически значимо не изменилась. А для успеха эксперимента необходимо, чтобы средняя выручка статистически значимо возросла; желательно - настолько, чтобы цена внедрения новых платежных систем была ниже дополнительно полученной прибыли. \n",
    "\n",
    "Удалось обнаружить отдельную группу пользователей, которых нововведение заинтересовало: это мужчины средних лет из США: для них средняя выручка выросла вдвое, конверсия на 90%. Это может означать, помимо всего прочего, что внедренные платежные системы наиболее актуальны и удобны именно для США - стоит проанализировать, какие новые платежные системы могли бы дать тот же эффект в других странах."
   ]
  }
 ],
 "metadata": {
  "kernelspec": {
   "display_name": "Python 3 (ipykernel)",
   "language": "python",
   "name": "python3"
  },
  "language_info": {
   "codemirror_mode": {
    "name": "ipython",
    "version": 3
   },
   "file_extension": ".py",
   "mimetype": "text/x-python",
   "name": "python",
   "nbconvert_exporter": "python",
   "pygments_lexer": "ipython3",
   "version": "3.9.12"
  }
 },
 "nbformat": 4,
 "nbformat_minor": 4
}
